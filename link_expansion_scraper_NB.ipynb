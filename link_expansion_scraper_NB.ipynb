{
 "cells": [
  {
   "cell_type": "code",
   "execution_count": 122,
   "id": "d642e7a0",
   "metadata": {},
   "outputs": [],
   "source": [
    "import numpy as np\n",
    "import pandas as pd\n",
    "import cloudscraper\n",
    "import time\n",
    "\n",
    "from bs4 import BeautifulSoup as bs\n",
    "\n",
    "from web_scraping_SCRIPT import get_recent_fights"
   ]
  },
  {
   "cell_type": "code",
   "execution_count": 123,
   "id": "bd8e6ff1",
   "metadata": {},
   "outputs": [
    {
     "name": "stdout",
     "output_type": "stream",
     "text": [
      "['Sunday, 27 April 2025', 'Marlon Tapales', 'Winner', 'RTD, Round 3', 'Jon Jon Jet', 'Loser', 'RTD, Round 3', 'General Santos City, Cotabato del Sur, Philippines', '']\n",
      "['Saturday, 26 April 2025', 'Chris Eubank Jr', 'Winner', 'UD, Round 12', 'Conor Benn', 'Loser', 'UD, Round 12', 'Tottenham Hotspur Stadium, London, United Kingdom', 'Anthony Yarde Beat  Lyndon Arthur (UD 12) \\nAaron McKenna Beat  Liam Smith (UD 12) \\nViddal Riley Beat  Cheavon Clarke (UD 12) \\nChris Billam Smith Beat  Brandon Glanton (UD 12)']\n",
      "['Sunday, 20 April 2025', 'Ben Whittaker', 'Winner', 'TKO, Round 2', 'Liam Cameron', 'Loser', 'TKO, Round 2', 'Resorts World Arena, Birmingham, United Kingdom', 'Sam Eggington Beat  Lee Cutler (TD 9) \\nFrazer Clarke Beat  Ebenezer Tetteh (TKO 1) \\nTyler Denny Beat  Elvis Ahorgah (PTS 10)']\n",
      "['Saturday, 19 April 2025', 'Dalton Smith', 'Winner', 'UD, Round 12', 'Mathieu Germain', 'Loser', 'UD, Round 12', 'Park Community Arena, Sheffield, United Kingdom', 'Caoimhin Agyarko Beat  Ryan Kelly (MD 10) \\nJosh Warrington Beat  Asad Khan (UD 10) \\nJosh Padley Beat  Marko Cvetanovic (TKO 5) \\nJoe Howarth Beat  Mario Portillo (UD 6) \\nLeli Buttigieg Beat  Grant Dennis (KO 5) \\nGiorgio Visioli Beat  Kane Baker (TKO 4)']\n",
      "['Saturday, 19 April 2025', 'Gabriela Fundora', 'Winner', 'TKO, Round 7', 'Marilyn Badillo Amaya', 'Loser', 'TKO, Round 7', 'Frontwave Arena, Oceanside, CA, United States', 'Jorge Perez Beat  Charles Conwell (SD 12) \\nOleksandr Gvozdyk Beat  Anthony Hollaway (KO 3)']\n",
      "['Saturday, 19 April 2025', 'Sadriddin Akhmedov', 'Draw', 'MD, Round 10', 'Elias Espadas', 'Draw', 'MD, Round 10', 'Commerce Casino, Commerce, CA, United States', '']\n",
      "['Friday, 18 April 2025', 'Sergey Kovalev', 'Winner', 'KO, Round 7', 'Artur Mann', 'Loser', 'KO, Round 7', 'Yunost Arena, Chelyabinsk, Russian Federation', '']\n",
      "['Friday, 18 April 2025', 'Kevin Hayler Brown', 'Winner', 'UD, Round 10', 'Esteuri Metiver Suero', 'Loser', 'UD, Round 10', 'Caribe Royale Orlando, Orlando, FL, United States', 'Lenier Pero Beat  Detrailous Webster (UD 10) \\nGurgen Hovhannisyan Beat  Dajuan Calloway (KO 5)']\n",
      "['Thursday, 17 April 2025', 'Holy Dorgbetor', 'Winner', 'SD, Round 6', 'Oleksandr Solomennikov', 'Loser', 'SD, Round 6', 'Global Theater Boulevard Riyadh City, Riyadh, Saudi Arabia', '']\n",
      "['Saturday, 12 April 2025', 'Jaron ‘Boots’ Ennis', 'Winner', 'RTD, Round 6', 'Eimantas Stanionis', 'Loser', 'RTD, Round 6', 'Boardwalk Hall, Atlantic City, NJ, United States', 'Raymond Ford Beat  Thomas Mattice (UD 10) \\nShakhram Giyasov Beat  Franco Ocampo (KO 4) \\nArturo Popoca Beat  Edgar Cortes (TKO 8) \\nTahmir Smalls Beat  Earl Bascome (KO 1) \\nZaquin Moses Beat  Alex Pallette (KO 2) \\nFrancisco Rodriguez Beat  Naheem Parker (TKO 3)']\n",
      "['Saturday, 12 April 2025', 'Jordan White', 'Winner', 'UD, Round 10', 'Jose Matias', 'Loser', 'UD, Round 10', 'Maryland Live Casino, Hanover, MD, United States', '']\n",
      "['Friday, 11 April 2025', 'Julio Cesar La Cruz', 'Winner', 'TKO, Round 3', 'Dilan Prasovic', 'Loser', 'TKO, Round 3', 'Hotel Melia International, Varadero, Cuba', 'Erislandy Alvarez Beat  Brainer Soli (KO 1) \\nMoussa Gholam Beat  Misael Vasquez (TKO 3) \\nArlen Lopez Beat  Martin Bulacio (UD 10) \\nLazaro Alvarez Beat  Miguel Santos (TKO 7)']\n",
      "Index(['Date', 'fighter1', 'fighter1_result', 'method_or_round', 'fighter2',\n",
      "       'Venue', 'Undercard fights', 'link'],\n",
      "      dtype='object')\n"
     ]
    }
   ],
   "source": [
    "data = get_recent_fights()\n",
    "time.sleep(3)"
   ]
  },
  {
   "cell_type": "code",
   "execution_count": 124,
   "id": "f1607541",
   "metadata": {},
   "outputs": [
    {
     "data": {
      "text/html": [
       "<div>\n",
       "<style scoped>\n",
       "    .dataframe tbody tr th:only-of-type {\n",
       "        vertical-align: middle;\n",
       "    }\n",
       "\n",
       "    .dataframe tbody tr th {\n",
       "        vertical-align: top;\n",
       "    }\n",
       "\n",
       "    .dataframe thead th {\n",
       "        text-align: right;\n",
       "    }\n",
       "</style>\n",
       "<table border=\"1\" class=\"dataframe\">\n",
       "  <thead>\n",
       "    <tr style=\"text-align: right;\">\n",
       "      <th></th>\n",
       "      <th>Date</th>\n",
       "      <th>fighter1</th>\n",
       "      <th>fighter1_result</th>\n",
       "      <th>method_or_round</th>\n",
       "      <th>fighter2</th>\n",
       "      <th>Venue</th>\n",
       "      <th>Undercard fights</th>\n",
       "      <th>link</th>\n",
       "    </tr>\n",
       "  </thead>\n",
       "  <tbody>\n",
       "    <tr>\n",
       "      <th>0</th>\n",
       "      <td>Sunday, 27 April 2025</td>\n",
       "      <td>Marlon Tapales</td>\n",
       "      <td>Winner</td>\n",
       "      <td>RTD, Round 3</td>\n",
       "      <td>Jon Jon Jet</td>\n",
       "      <td>General Santos City, Cotabato del Sur, Philipp...</td>\n",
       "      <td>NaN</td>\n",
       "      <td>https://box.live/fights/tapales-vs-jet/</td>\n",
       "    </tr>\n",
       "    <tr>\n",
       "      <th>1</th>\n",
       "      <td>Saturday, 26 April 2025</td>\n",
       "      <td>Chris Eubank Jr</td>\n",
       "      <td>Winner</td>\n",
       "      <td>UD, Round 12</td>\n",
       "      <td>Conor Benn</td>\n",
       "      <td>Tottenham Hotspur Stadium, London, United Kingdom</td>\n",
       "      <td>Anthony Yarde Beat  Lyndon Arthur (UD 12) \\nAa...</td>\n",
       "      <td>https://box.live/fights/eubank-jr-vs-benn/</td>\n",
       "    </tr>\n",
       "    <tr>\n",
       "      <th>2</th>\n",
       "      <td>Sunday, 20 April 2025</td>\n",
       "      <td>Ben Whittaker</td>\n",
       "      <td>Winner</td>\n",
       "      <td>TKO, Round 2</td>\n",
       "      <td>Liam Cameron</td>\n",
       "      <td>Resorts World Arena, Birmingham, United Kingdom</td>\n",
       "      <td>Sam Eggington Beat  Lee Cutler (TD 9) \\nFrazer...</td>\n",
       "      <td>https://box.live/fights/whittaker-vs-cameron-ii/</td>\n",
       "    </tr>\n",
       "    <tr>\n",
       "      <th>3</th>\n",
       "      <td>Saturday, 19 April 2025</td>\n",
       "      <td>Dalton Smith</td>\n",
       "      <td>Winner</td>\n",
       "      <td>UD, Round 12</td>\n",
       "      <td>Mathieu Germain</td>\n",
       "      <td>Park Community Arena, Sheffield, United Kingdom</td>\n",
       "      <td>Caoimhin Agyarko Beat  Ryan Kelly (MD 10) \\nJo...</td>\n",
       "      <td>https://box.live/fights/smith-vs-germain/</td>\n",
       "    </tr>\n",
       "    <tr>\n",
       "      <th>4</th>\n",
       "      <td>Saturday, 19 April 2025</td>\n",
       "      <td>Gabriela Fundora</td>\n",
       "      <td>Winner</td>\n",
       "      <td>TKO, Round 7</td>\n",
       "      <td>Marilyn Badillo Amaya</td>\n",
       "      <td>Frontwave Arena, Oceanside, CA, United States</td>\n",
       "      <td>Jorge Perez Beat  Charles Conwell (SD 12) \\nOl...</td>\n",
       "      <td>https://box.live/fights/fundora-vs-amaya/</td>\n",
       "    </tr>\n",
       "  </tbody>\n",
       "</table>\n",
       "</div>"
      ],
      "text/plain": [
       "                      Date          fighter1 fighter1_result method_or_round  \\\n",
       "0    Sunday, 27 April 2025    Marlon Tapales          Winner    RTD, Round 3   \n",
       "1  Saturday, 26 April 2025   Chris Eubank Jr          Winner    UD, Round 12   \n",
       "2    Sunday, 20 April 2025     Ben Whittaker          Winner    TKO, Round 2   \n",
       "3  Saturday, 19 April 2025      Dalton Smith          Winner    UD, Round 12   \n",
       "4  Saturday, 19 April 2025  Gabriela Fundora          Winner    TKO, Round 7   \n",
       "\n",
       "                fighter2                                              Venue  \\\n",
       "0            Jon Jon Jet  General Santos City, Cotabato del Sur, Philipp...   \n",
       "1             Conor Benn  Tottenham Hotspur Stadium, London, United Kingdom   \n",
       "2           Liam Cameron    Resorts World Arena, Birmingham, United Kingdom   \n",
       "3        Mathieu Germain    Park Community Arena, Sheffield, United Kingdom   \n",
       "4  Marilyn Badillo Amaya      Frontwave Arena, Oceanside, CA, United States   \n",
       "\n",
       "                                    Undercard fights  \\\n",
       "0                                                NaN   \n",
       "1  Anthony Yarde Beat  Lyndon Arthur (UD 12) \\nAa...   \n",
       "2  Sam Eggington Beat  Lee Cutler (TD 9) \\nFrazer...   \n",
       "3  Caoimhin Agyarko Beat  Ryan Kelly (MD 10) \\nJo...   \n",
       "4  Jorge Perez Beat  Charles Conwell (SD 12) \\nOl...   \n",
       "\n",
       "                                               link  \n",
       "0           https://box.live/fights/tapales-vs-jet/  \n",
       "1        https://box.live/fights/eubank-jr-vs-benn/  \n",
       "2  https://box.live/fights/whittaker-vs-cameron-ii/  \n",
       "3         https://box.live/fights/smith-vs-germain/  \n",
       "4         https://box.live/fights/fundora-vs-amaya/  "
      ]
     },
     "execution_count": 124,
     "metadata": {},
     "output_type": "execute_result"
    }
   ],
   "source": [
    "data.head()"
   ]
  },
  {
   "cell_type": "markdown",
   "id": "0829ec8e",
   "metadata": {},
   "source": [
    "probably need to loop through every row, then grab data and set the data in certain columns"
   ]
  },
  {
   "cell_type": "code",
   "execution_count": 125,
   "id": "bfed61f9",
   "metadata": {},
   "outputs": [],
   "source": [
    "links = np.array(data['link'])"
   ]
  },
  {
   "cell_type": "code",
   "execution_count": 126,
   "id": "f6fa55a7",
   "metadata": {},
   "outputs": [
    {
     "data": {
      "text/plain": [
       "array(['https://box.live/fights/tapales-vs-jet/',\n",
       "       'https://box.live/fights/eubank-jr-vs-benn/',\n",
       "       'https://box.live/fights/whittaker-vs-cameron-ii/',\n",
       "       'https://box.live/fights/smith-vs-germain/',\n",
       "       'https://box.live/fights/fundora-vs-amaya/'], dtype=object)"
      ]
     },
     "execution_count": 126,
     "metadata": {},
     "output_type": "execute_result"
    }
   ],
   "source": [
    "links[:5]"
   ]
  },
  {
   "cell_type": "code",
   "execution_count": 127,
   "id": "d647089d",
   "metadata": {},
   "outputs": [
    {
     "data": {
      "text/plain": [
       "'https://box.live/fights/tapales-vs-jet/'"
      ]
     },
     "execution_count": 127,
     "metadata": {},
     "output_type": "execute_result"
    }
   ],
   "source": [
    "links[0]"
   ]
  },
  {
   "cell_type": "markdown",
   "id": "4d1b1680",
   "metadata": {},
   "source": [
    "### test individual scraping before requesting hella"
   ]
  },
  {
   "cell_type": "code",
   "execution_count": 128,
   "id": "d281da7b",
   "metadata": {},
   "outputs": [],
   "source": [
    "scraper = cloudscraper.create_scraper()\n",
    "\n",
    "test_url = data['link'][0]\n",
    "test_page = scraper.get(test_url)\n",
    "\n",
    "soup = bs(test_page.text, 'html.parser')"
   ]
  },
  {
   "cell_type": "code",
   "execution_count": 129,
   "id": "6054867c",
   "metadata": {},
   "outputs": [
    {
     "data": {
      "text/plain": [
       "[<div class=\"single-fight__record-content d-flex align-items-center justify-content-center w-100\">\n",
       "                     39-4-0                </div>,\n",
       " <div class=\"single-fight__record-content d-flex align-items-center justify-content-center w-100\">\n",
       "                     15-1-1                </div>,\n",
       " <div class=\"single-fight__record-content d-flex align-items-center justify-content-center w-100\" id=\"fighter-1-existing-score\">-</div>,\n",
       " <div class=\"single-fight__record-content d-flex align-items-center justify-content-center w-100\" id=\"fighter-2-existing-score\">-</div>]"
      ]
     },
     "execution_count": 129,
     "metadata": {},
     "output_type": "execute_result"
    }
   ],
   "source": [
    "win_draw_loss = soup.find_all(class_='single-fight__record-content d-flex align-items-center justify-content-center w-100')\n",
    "win_draw_loss"
   ]
  },
  {
   "cell_type": "code",
   "execution_count": 130,
   "id": "992b3ac8",
   "metadata": {},
   "outputs": [
    {
     "data": {
      "text/plain": [
       "['39', '4', '0']"
      ]
     },
     "execution_count": 130,
     "metadata": {},
     "output_type": "execute_result"
    }
   ],
   "source": [
    "fighter1_WDL_record = win_draw_loss[0].text.strip().split('-')\n",
    "fighter1_WDL_record"
   ]
  },
  {
   "cell_type": "code",
   "execution_count": 131,
   "id": "334b0754",
   "metadata": {},
   "outputs": [
    {
     "data": {
      "text/plain": [
       "['15', '1', '1']"
      ]
     },
     "execution_count": 131,
     "metadata": {},
     "output_type": "execute_result"
    }
   ],
   "source": [
    "fighter2_WDL_record = win_draw_loss[1].text.strip().split('-')\n",
    "fighter2_WDL_record"
   ]
  },
  {
   "cell_type": "code",
   "execution_count": 132,
   "id": "152a0187",
   "metadata": {},
   "outputs": [],
   "source": [
    "data['fighter1_record_wins'] = 'NaN'\n",
    "data['fighter1_record_draws'] = 'NaN'\n",
    "data['fighter1_record_losses'] = 'NaN'"
   ]
  },
  {
   "cell_type": "code",
   "execution_count": 133,
   "id": "06e96fc2",
   "metadata": {},
   "outputs": [],
   "source": [
    "data.at[0,'fighter1_record_wins'] = fighter1_WDL_record[0]\n",
    "data.at[0,'fighter1_record_draws'] = fighter1_WDL_record[1]\n",
    "data.at[0,'fighter1_record_losses'] = fighter1_WDL_record[2]"
   ]
  },
  {
   "cell_type": "code",
   "execution_count": 135,
   "id": "3a20232a",
   "metadata": {},
   "outputs": [],
   "source": [
    "data['fighter2_record_wins'] = 'NaN'\n",
    "data['fighter2_record_draws'] = 'NaN'\n",
    "data['fighter2_record_losses'] = 'NaN'"
   ]
  },
  {
   "cell_type": "code",
   "execution_count": 136,
   "id": "1999c1bc",
   "metadata": {},
   "outputs": [],
   "source": [
    "data.at[0,'fighter2_record_wins'] = fighter2_WDL_record[0]\n",
    "data.at[0,'fighter2_record_draws'] = fighter2_WDL_record[1]\n",
    "data.at[0,'fighter2_record_losses'] = fighter2_WDL_record[2]"
   ]
  },
  {
   "cell_type": "code",
   "execution_count": 139,
   "id": "29f7f936",
   "metadata": {},
   "outputs": [
    {
     "data": {
      "text/html": [
       "<div>\n",
       "<style scoped>\n",
       "    .dataframe tbody tr th:only-of-type {\n",
       "        vertical-align: middle;\n",
       "    }\n",
       "\n",
       "    .dataframe tbody tr th {\n",
       "        vertical-align: top;\n",
       "    }\n",
       "\n",
       "    .dataframe thead th {\n",
       "        text-align: right;\n",
       "    }\n",
       "</style>\n",
       "<table border=\"1\" class=\"dataframe\">\n",
       "  <thead>\n",
       "    <tr style=\"text-align: right;\">\n",
       "      <th></th>\n",
       "      <th>Date</th>\n",
       "      <th>fighter1</th>\n",
       "      <th>fighter1_result</th>\n",
       "      <th>method_or_round</th>\n",
       "      <th>fighter2</th>\n",
       "      <th>Venue</th>\n",
       "      <th>Undercard fights</th>\n",
       "      <th>link</th>\n",
       "      <th>fighter1_record_wins</th>\n",
       "      <th>fighter1_record_draws</th>\n",
       "      <th>fighter1_record_losses</th>\n",
       "      <th>fighter2_record_wins</th>\n",
       "      <th>fighter2_record_draws</th>\n",
       "      <th>fighter2_record_losses</th>\n",
       "    </tr>\n",
       "  </thead>\n",
       "  <tbody>\n",
       "    <tr>\n",
       "      <th>0</th>\n",
       "      <td>Sunday, 27 April 2025</td>\n",
       "      <td>Marlon Tapales</td>\n",
       "      <td>Winner</td>\n",
       "      <td>RTD, Round 3</td>\n",
       "      <td>Jon Jon Jet</td>\n",
       "      <td>General Santos City, Cotabato del Sur, Philipp...</td>\n",
       "      <td>NaN</td>\n",
       "      <td>https://box.live/fights/tapales-vs-jet/</td>\n",
       "      <td>39</td>\n",
       "      <td>4</td>\n",
       "      <td>0</td>\n",
       "      <td>15</td>\n",
       "      <td>1</td>\n",
       "      <td>1</td>\n",
       "    </tr>\n",
       "    <tr>\n",
       "      <th>1</th>\n",
       "      <td>Saturday, 26 April 2025</td>\n",
       "      <td>Chris Eubank Jr</td>\n",
       "      <td>Winner</td>\n",
       "      <td>UD, Round 12</td>\n",
       "      <td>Conor Benn</td>\n",
       "      <td>Tottenham Hotspur Stadium, London, United Kingdom</td>\n",
       "      <td>Anthony Yarde Beat  Lyndon Arthur (UD 12) \\nAa...</td>\n",
       "      <td>https://box.live/fights/eubank-jr-vs-benn/</td>\n",
       "      <td>NaN</td>\n",
       "      <td>NaN</td>\n",
       "      <td>NaN</td>\n",
       "      <td>NaN</td>\n",
       "      <td>NaN</td>\n",
       "      <td>NaN</td>\n",
       "    </tr>\n",
       "    <tr>\n",
       "      <th>2</th>\n",
       "      <td>Sunday, 20 April 2025</td>\n",
       "      <td>Ben Whittaker</td>\n",
       "      <td>Winner</td>\n",
       "      <td>TKO, Round 2</td>\n",
       "      <td>Liam Cameron</td>\n",
       "      <td>Resorts World Arena, Birmingham, United Kingdom</td>\n",
       "      <td>Sam Eggington Beat  Lee Cutler (TD 9) \\nFrazer...</td>\n",
       "      <td>https://box.live/fights/whittaker-vs-cameron-ii/</td>\n",
       "      <td>NaN</td>\n",
       "      <td>NaN</td>\n",
       "      <td>NaN</td>\n",
       "      <td>NaN</td>\n",
       "      <td>NaN</td>\n",
       "      <td>NaN</td>\n",
       "    </tr>\n",
       "    <tr>\n",
       "      <th>3</th>\n",
       "      <td>Saturday, 19 April 2025</td>\n",
       "      <td>Dalton Smith</td>\n",
       "      <td>Winner</td>\n",
       "      <td>UD, Round 12</td>\n",
       "      <td>Mathieu Germain</td>\n",
       "      <td>Park Community Arena, Sheffield, United Kingdom</td>\n",
       "      <td>Caoimhin Agyarko Beat  Ryan Kelly (MD 10) \\nJo...</td>\n",
       "      <td>https://box.live/fights/smith-vs-germain/</td>\n",
       "      <td>NaN</td>\n",
       "      <td>NaN</td>\n",
       "      <td>NaN</td>\n",
       "      <td>NaN</td>\n",
       "      <td>NaN</td>\n",
       "      <td>NaN</td>\n",
       "    </tr>\n",
       "    <tr>\n",
       "      <th>4</th>\n",
       "      <td>Saturday, 19 April 2025</td>\n",
       "      <td>Gabriela Fundora</td>\n",
       "      <td>Winner</td>\n",
       "      <td>TKO, Round 7</td>\n",
       "      <td>Marilyn Badillo Amaya</td>\n",
       "      <td>Frontwave Arena, Oceanside, CA, United States</td>\n",
       "      <td>Jorge Perez Beat  Charles Conwell (SD 12) \\nOl...</td>\n",
       "      <td>https://box.live/fights/fundora-vs-amaya/</td>\n",
       "      <td>NaN</td>\n",
       "      <td>NaN</td>\n",
       "      <td>NaN</td>\n",
       "      <td>NaN</td>\n",
       "      <td>NaN</td>\n",
       "      <td>NaN</td>\n",
       "    </tr>\n",
       "  </tbody>\n",
       "</table>\n",
       "</div>"
      ],
      "text/plain": [
       "                      Date          fighter1 fighter1_result method_or_round  \\\n",
       "0    Sunday, 27 April 2025    Marlon Tapales          Winner    RTD, Round 3   \n",
       "1  Saturday, 26 April 2025   Chris Eubank Jr          Winner    UD, Round 12   \n",
       "2    Sunday, 20 April 2025     Ben Whittaker          Winner    TKO, Round 2   \n",
       "3  Saturday, 19 April 2025      Dalton Smith          Winner    UD, Round 12   \n",
       "4  Saturday, 19 April 2025  Gabriela Fundora          Winner    TKO, Round 7   \n",
       "\n",
       "                fighter2                                              Venue  \\\n",
       "0            Jon Jon Jet  General Santos City, Cotabato del Sur, Philipp...   \n",
       "1             Conor Benn  Tottenham Hotspur Stadium, London, United Kingdom   \n",
       "2           Liam Cameron    Resorts World Arena, Birmingham, United Kingdom   \n",
       "3        Mathieu Germain    Park Community Arena, Sheffield, United Kingdom   \n",
       "4  Marilyn Badillo Amaya      Frontwave Arena, Oceanside, CA, United States   \n",
       "\n",
       "                                    Undercard fights  \\\n",
       "0                                                NaN   \n",
       "1  Anthony Yarde Beat  Lyndon Arthur (UD 12) \\nAa...   \n",
       "2  Sam Eggington Beat  Lee Cutler (TD 9) \\nFrazer...   \n",
       "3  Caoimhin Agyarko Beat  Ryan Kelly (MD 10) \\nJo...   \n",
       "4  Jorge Perez Beat  Charles Conwell (SD 12) \\nOl...   \n",
       "\n",
       "                                               link fighter1_record_wins  \\\n",
       "0           https://box.live/fights/tapales-vs-jet/                   39   \n",
       "1        https://box.live/fights/eubank-jr-vs-benn/                  NaN   \n",
       "2  https://box.live/fights/whittaker-vs-cameron-ii/                  NaN   \n",
       "3         https://box.live/fights/smith-vs-germain/                  NaN   \n",
       "4         https://box.live/fights/fundora-vs-amaya/                  NaN   \n",
       "\n",
       "  fighter1_record_draws fighter1_record_losses fighter2_record_wins  \\\n",
       "0                     4                      0                   15   \n",
       "1                   NaN                    NaN                  NaN   \n",
       "2                   NaN                    NaN                  NaN   \n",
       "3                   NaN                    NaN                  NaN   \n",
       "4                   NaN                    NaN                  NaN   \n",
       "\n",
       "  fighter2_record_draws fighter2_record_losses  \n",
       "0                     1                      1  \n",
       "1                   NaN                    NaN  \n",
       "2                   NaN                    NaN  \n",
       "3                   NaN                    NaN  \n",
       "4                   NaN                    NaN  "
      ]
     },
     "execution_count": 139,
     "metadata": {},
     "output_type": "execute_result"
    }
   ],
   "source": [
    "data.head(5)"
   ]
  },
  {
   "cell_type": "markdown",
   "id": "f0ebc959",
   "metadata": {},
   "source": [
    "### do da requesting loop to iterate through all of it"
   ]
  },
  {
   "cell_type": "code",
   "execution_count": null,
   "id": "6b98568e",
   "metadata": {},
   "outputs": [],
   "source": [
    "row_index = 0\n",
    "scraper = cloudscraper.create_scraper()\n",
    "\n",
    "for url in links :\n",
    "\n",
    "    # scrape le website\n",
    "    page = scraper.get(url)\n",
    "    soup = bs(page.text, 'html.parser')\n",
    "\n",
    "    # get certain values/metrics/statistics of players\n",
    "    \n",
    "\n",
    "\n",
    "\n",
    "\n",
    "    # append values to columns\n",
    "\n",
    "    row_index += 1\n",
    "    seconds = np.random.randint(3,7)\n",
    "    time.sleep(seconds)\n"
   ]
  }
 ],
 "metadata": {
  "kernelspec": {
   "display_name": "base",
   "language": "python",
   "name": "python3"
  },
  "language_info": {
   "codemirror_mode": {
    "name": "ipython",
    "version": 3
   },
   "file_extension": ".py",
   "mimetype": "text/x-python",
   "name": "python",
   "nbconvert_exporter": "python",
   "pygments_lexer": "ipython3",
   "version": "3.12.7"
  }
 },
 "nbformat": 4,
 "nbformat_minor": 5
}
