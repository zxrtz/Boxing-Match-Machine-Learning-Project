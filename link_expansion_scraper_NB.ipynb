{
 "cells": [
  {
   "cell_type": "code",
   "execution_count": 2,
   "id": "d642e7a0",
   "metadata": {},
   "outputs": [],
   "source": [
    "import numpy as np\n",
    "import pandas as pd\n",
    "import cloudscraper\n",
    "import time\n",
    "\n",
    "from bs4 import BeautifulSoup as bs\n",
    "\n",
    "from web_scraping_SCRIPT import get_recent_fights"
   ]
  },
  {
   "cell_type": "code",
   "execution_count": 3,
   "id": "bd8e6ff1",
   "metadata": {},
   "outputs": [],
   "source": [
    "data = get_recent_fights()\n",
    "time.sleep(3)"
   ]
  },
  {
   "cell_type": "code",
   "execution_count": 4,
   "id": "f1607541",
   "metadata": {},
   "outputs": [
    {
     "data": {
      "text/html": [
       "<div>\n",
       "<style scoped>\n",
       "    .dataframe tbody tr th:only-of-type {\n",
       "        vertical-align: middle;\n",
       "    }\n",
       "\n",
       "    .dataframe tbody tr th {\n",
       "        vertical-align: top;\n",
       "    }\n",
       "\n",
       "    .dataframe thead th {\n",
       "        text-align: right;\n",
       "    }\n",
       "</style>\n",
       "<table border=\"1\" class=\"dataframe\">\n",
       "  <thead>\n",
       "    <tr style=\"text-align: right;\">\n",
       "      <th></th>\n",
       "      <th>Date</th>\n",
       "      <th>fighter1</th>\n",
       "      <th>fighter1_result</th>\n",
       "      <th>method_or_round</th>\n",
       "      <th>fighter2</th>\n",
       "      <th>Venue</th>\n",
       "      <th>Undercard fights</th>\n",
       "      <th>link</th>\n",
       "    </tr>\n",
       "  </thead>\n",
       "  <tbody>\n",
       "    <tr>\n",
       "      <th>0</th>\n",
       "      <td>Sunday, 4 May 2025</td>\n",
       "      <td>Naoya Inoue</td>\n",
       "      <td>Winner</td>\n",
       "      <td>TKO, Round 8</td>\n",
       "      <td>Ramon Cardenas</td>\n",
       "      <td>T-Mobile Arena, Las Vegas, United States</td>\n",
       "      <td>Rafael Espinoza Beat  Edward Vazquez (TKO 7) \\...</td>\n",
       "      <td>https://box.live/fights/inoue-vs-cardenas/</td>\n",
       "    </tr>\n",
       "    <tr>\n",
       "      <th>1</th>\n",
       "      <td>Saturday, 3 May 2025</td>\n",
       "      <td>Canelo Alvarez</td>\n",
       "      <td>Winner</td>\n",
       "      <td>UD, Round 12</td>\n",
       "      <td>William Scull</td>\n",
       "      <td>The Venue, Riyadh, Saudi Arabia</td>\n",
       "      <td>Jaime Munguia Beat  Bruno Surace (UD 12) \\nMar...</td>\n",
       "      <td>https://box.live/fights/canelo-vs-scull/</td>\n",
       "    </tr>\n",
       "    <tr>\n",
       "      <th>2</th>\n",
       "      <td>Saturday, 3 May 2025</td>\n",
       "      <td>Jukiya Iimura</td>\n",
       "      <td>Winner</td>\n",
       "      <td>UD, Round 12</td>\n",
       "      <td>Esneth Domingo</td>\n",
       "      <td>Korakuen Hall, Tokyo, Japan</td>\n",
       "      <td>&lt;NA&gt;</td>\n",
       "      <td>https://box.live/fights/iimura-vs-domingo/</td>\n",
       "    </tr>\n",
       "    <tr>\n",
       "      <th>3</th>\n",
       "      <td>Friday, 2 May 2025</td>\n",
       "      <td>Ryan Garcia</td>\n",
       "      <td>Loser</td>\n",
       "      <td>UD, Round 12</td>\n",
       "      <td>Rolando ‘Rolly’ Romero</td>\n",
       "      <td>Times Square, New York, NY, United States</td>\n",
       "      <td>Devin Haney Beat  Jose Ramirez (UD 12) \\nTeofi...</td>\n",
       "      <td>https://box.live/fights/garcia-vs-romero/</td>\n",
       "    </tr>\n",
       "    <tr>\n",
       "      <th>4</th>\n",
       "      <td>Thursday, 1 May 2025</td>\n",
       "      <td>Kevin Lerena</td>\n",
       "      <td>Winner</td>\n",
       "      <td>TKO, Round 3</td>\n",
       "      <td>Serhiy Radchenko</td>\n",
       "      <td>Sunbet Arena, Pretoria, South Africa</td>\n",
       "      <td>&lt;NA&gt;</td>\n",
       "      <td>https://box.live/fights/lerena-vs-radchenko/</td>\n",
       "    </tr>\n",
       "  </tbody>\n",
       "</table>\n",
       "</div>"
      ],
      "text/plain": [
       "                   Date        fighter1 fighter1_result method_or_round  \\\n",
       "0    Sunday, 4 May 2025     Naoya Inoue          Winner    TKO, Round 8   \n",
       "1  Saturday, 3 May 2025  Canelo Alvarez          Winner    UD, Round 12   \n",
       "2  Saturday, 3 May 2025   Jukiya Iimura          Winner    UD, Round 12   \n",
       "3    Friday, 2 May 2025     Ryan Garcia           Loser    UD, Round 12   \n",
       "4  Thursday, 1 May 2025    Kevin Lerena          Winner    TKO, Round 3   \n",
       "\n",
       "                 fighter2                                      Venue  \\\n",
       "0          Ramon Cardenas   T-Mobile Arena, Las Vegas, United States   \n",
       "1           William Scull            The Venue, Riyadh, Saudi Arabia   \n",
       "2          Esneth Domingo                Korakuen Hall, Tokyo, Japan   \n",
       "3  Rolando ‘Rolly’ Romero  Times Square, New York, NY, United States   \n",
       "4        Serhiy Radchenko       Sunbet Arena, Pretoria, South Africa   \n",
       "\n",
       "                                    Undercard fights  \\\n",
       "0  Rafael Espinoza Beat  Edward Vazquez (TKO 7) \\...   \n",
       "1  Jaime Munguia Beat  Bruno Surace (UD 12) \\nMar...   \n",
       "2                                               <NA>   \n",
       "3  Devin Haney Beat  Jose Ramirez (UD 12) \\nTeofi...   \n",
       "4                                               <NA>   \n",
       "\n",
       "                                           link  \n",
       "0    https://box.live/fights/inoue-vs-cardenas/  \n",
       "1      https://box.live/fights/canelo-vs-scull/  \n",
       "2    https://box.live/fights/iimura-vs-domingo/  \n",
       "3     https://box.live/fights/garcia-vs-romero/  \n",
       "4  https://box.live/fights/lerena-vs-radchenko/  "
      ]
     },
     "execution_count": 4,
     "metadata": {},
     "output_type": "execute_result"
    }
   ],
   "source": [
    "data.head()"
   ]
  },
  {
   "cell_type": "markdown",
   "id": "0829ec8e",
   "metadata": {},
   "source": [
    "probably need to loop through every row, then grab data and set the data in certain columns"
   ]
  },
  {
   "cell_type": "code",
   "execution_count": 5,
   "id": "bfed61f9",
   "metadata": {},
   "outputs": [],
   "source": [
    "links = np.array(data['link'])"
   ]
  },
  {
   "cell_type": "code",
   "execution_count": 6,
   "id": "f6fa55a7",
   "metadata": {},
   "outputs": [
    {
     "data": {
      "text/plain": [
       "array(['https://box.live/fights/inoue-vs-cardenas/',\n",
       "       'https://box.live/fights/canelo-vs-scull/',\n",
       "       'https://box.live/fights/iimura-vs-domingo/',\n",
       "       'https://box.live/fights/garcia-vs-romero/',\n",
       "       'https://box.live/fights/lerena-vs-radchenko/',\n",
       "       'https://box.live/fights/tapales-vs-jet/',\n",
       "       'https://box.live/fights/eubank-jr-vs-benn/',\n",
       "       'https://box.live/fights/whittaker-vs-cameron-ii/',\n",
       "       'https://box.live/fights/smith-vs-germain/',\n",
       "       'https://box.live/fights/fundora-vs-amaya/',\n",
       "       'https://box.live/fights/akhmedov-vs-espadas/',\n",
       "       'https://box.live/fights/kovalev-vs-mann/'], dtype=object)"
      ]
     },
     "execution_count": 6,
     "metadata": {},
     "output_type": "execute_result"
    }
   ],
   "source": [
    "links"
   ]
  },
  {
   "cell_type": "code",
   "execution_count": 7,
   "id": "d647089d",
   "metadata": {},
   "outputs": [
    {
     "data": {
      "text/plain": [
       "'https://box.live/fights/inoue-vs-cardenas/'"
      ]
     },
     "execution_count": 7,
     "metadata": {},
     "output_type": "execute_result"
    }
   ],
   "source": [
    "links[0]"
   ]
  },
  {
   "cell_type": "markdown",
   "id": "4d1b1680",
   "metadata": {},
   "source": [
    "### test individual scraping before requesting hella"
   ]
  },
  {
   "cell_type": "markdown",
   "id": "d6b0ad02",
   "metadata": {},
   "source": [
    "### 1st part: individual boxing wins/losses per player"
   ]
  },
  {
   "cell_type": "code",
   "execution_count": 8,
   "id": "d281da7b",
   "metadata": {},
   "outputs": [],
   "source": [
    "scraper = cloudscraper.create_scraper()\n",
    "\n",
    "test_url = data['link'][0] # testing\n",
    "test_page = scraper.get(test_url)\n",
    "\n",
    "soup = bs(test_page.text, 'html.parser')"
   ]
  },
  {
   "cell_type": "code",
   "execution_count": 9,
   "id": "6054867c",
   "metadata": {},
   "outputs": [
    {
     "data": {
      "text/plain": [
       "[<div class=\"single-fight__record-content d-flex align-items-center justify-content-center w-100\">\n",
       "                     29-0-0                </div>,\n",
       " <div class=\"single-fight__record-content d-flex align-items-center justify-content-center w-100\">\n",
       "                     26-1-0                </div>,\n",
       " <div class=\"single-fight__record-content d-flex align-items-center justify-content-center w-100\" id=\"fighter-1-existing-score\">-</div>,\n",
       " <div class=\"single-fight__record-content d-flex align-items-center justify-content-center w-100\" id=\"fighter-2-existing-score\">-</div>]"
      ]
     },
     "execution_count": 9,
     "metadata": {},
     "output_type": "execute_result"
    }
   ],
   "source": [
    "win_draw_loss = soup.find_all(class_='single-fight__record-content d-flex align-items-center justify-content-center w-100')\n",
    "win_draw_loss"
   ]
  },
  {
   "cell_type": "code",
   "execution_count": 10,
   "id": "992b3ac8",
   "metadata": {},
   "outputs": [
    {
     "data": {
      "text/plain": [
       "['29', '0', '0']"
      ]
     },
     "execution_count": 10,
     "metadata": {},
     "output_type": "execute_result"
    }
   ],
   "source": [
    "fighter1_WDL_record = win_draw_loss[0].text.strip().split('-')\n",
    "fighter1_WDL_record"
   ]
  },
  {
   "cell_type": "code",
   "execution_count": 11,
   "id": "334b0754",
   "metadata": {},
   "outputs": [
    {
     "data": {
      "text/plain": [
       "['26', '1', '0']"
      ]
     },
     "execution_count": 11,
     "metadata": {},
     "output_type": "execute_result"
    }
   ],
   "source": [
    "fighter2_WDL_record = win_draw_loss[1].text.strip().split('-')\n",
    "fighter2_WDL_record"
   ]
  },
  {
   "cell_type": "code",
   "execution_count": 12,
   "id": "152a0187",
   "metadata": {},
   "outputs": [],
   "source": [
    "data['fighter1_record_wins'] = 'NaN'\n",
    "data['fighter1_record_draws'] = 'NaN'\n",
    "data['fighter1_record_losses'] = 'NaN'"
   ]
  },
  {
   "cell_type": "code",
   "execution_count": 13,
   "id": "06e96fc2",
   "metadata": {},
   "outputs": [],
   "source": [
    "data.at[0,'fighter1_record_wins'] = fighter1_WDL_record[0]\n",
    "data.at[0,'fighter1_record_losses'] = fighter1_WDL_record[1]\n",
    "data.at[0,'fighter1_record_draws'] = fighter1_WDL_record[2]"
   ]
  },
  {
   "cell_type": "code",
   "execution_count": 14,
   "id": "3a20232a",
   "metadata": {},
   "outputs": [],
   "source": [
    "data['fighter2_record_wins'] = 'NaN'\n",
    "data['fighter2_record_draws'] = 'NaN'\n",
    "data['fighter2_record_losses'] = 'NaN'"
   ]
  },
  {
   "cell_type": "code",
   "execution_count": 15,
   "id": "1999c1bc",
   "metadata": {},
   "outputs": [],
   "source": [
    "\n",
    "data.at[0,'fighter2_record_wins'] = fighter2_WDL_record[0]\n",
    "data.at[0,'fighter2_record_losses'] = fighter2_WDL_record[1]\n",
    "data.at[0,'fighter2_record_draws'] = fighter2_WDL_record[2]"
   ]
  },
  {
   "cell_type": "code",
   "execution_count": 16,
   "id": "29f7f936",
   "metadata": {},
   "outputs": [
    {
     "data": {
      "text/html": [
       "<div>\n",
       "<style scoped>\n",
       "    .dataframe tbody tr th:only-of-type {\n",
       "        vertical-align: middle;\n",
       "    }\n",
       "\n",
       "    .dataframe tbody tr th {\n",
       "        vertical-align: top;\n",
       "    }\n",
       "\n",
       "    .dataframe thead th {\n",
       "        text-align: right;\n",
       "    }\n",
       "</style>\n",
       "<table border=\"1\" class=\"dataframe\">\n",
       "  <thead>\n",
       "    <tr style=\"text-align: right;\">\n",
       "      <th></th>\n",
       "      <th>Date</th>\n",
       "      <th>fighter1</th>\n",
       "      <th>fighter1_result</th>\n",
       "      <th>method_or_round</th>\n",
       "      <th>fighter2</th>\n",
       "      <th>Venue</th>\n",
       "      <th>Undercard fights</th>\n",
       "      <th>link</th>\n",
       "      <th>fighter1_record_wins</th>\n",
       "      <th>fighter1_record_draws</th>\n",
       "      <th>fighter1_record_losses</th>\n",
       "      <th>fighter2_record_wins</th>\n",
       "      <th>fighter2_record_draws</th>\n",
       "      <th>fighter2_record_losses</th>\n",
       "    </tr>\n",
       "  </thead>\n",
       "  <tbody>\n",
       "    <tr>\n",
       "      <th>0</th>\n",
       "      <td>Sunday, 4 May 2025</td>\n",
       "      <td>Naoya Inoue</td>\n",
       "      <td>Winner</td>\n",
       "      <td>TKO, Round 8</td>\n",
       "      <td>Ramon Cardenas</td>\n",
       "      <td>T-Mobile Arena, Las Vegas, United States</td>\n",
       "      <td>Rafael Espinoza Beat  Edward Vazquez (TKO 7) \\...</td>\n",
       "      <td>https://box.live/fights/inoue-vs-cardenas/</td>\n",
       "      <td>29</td>\n",
       "      <td>0</td>\n",
       "      <td>0</td>\n",
       "      <td>26</td>\n",
       "      <td>0</td>\n",
       "      <td>1</td>\n",
       "    </tr>\n",
       "    <tr>\n",
       "      <th>1</th>\n",
       "      <td>Saturday, 3 May 2025</td>\n",
       "      <td>Canelo Alvarez</td>\n",
       "      <td>Winner</td>\n",
       "      <td>UD, Round 12</td>\n",
       "      <td>William Scull</td>\n",
       "      <td>The Venue, Riyadh, Saudi Arabia</td>\n",
       "      <td>Jaime Munguia Beat  Bruno Surace (UD 12) \\nMar...</td>\n",
       "      <td>https://box.live/fights/canelo-vs-scull/</td>\n",
       "      <td>NaN</td>\n",
       "      <td>NaN</td>\n",
       "      <td>NaN</td>\n",
       "      <td>NaN</td>\n",
       "      <td>NaN</td>\n",
       "      <td>NaN</td>\n",
       "    </tr>\n",
       "    <tr>\n",
       "      <th>2</th>\n",
       "      <td>Saturday, 3 May 2025</td>\n",
       "      <td>Jukiya Iimura</td>\n",
       "      <td>Winner</td>\n",
       "      <td>UD, Round 12</td>\n",
       "      <td>Esneth Domingo</td>\n",
       "      <td>Korakuen Hall, Tokyo, Japan</td>\n",
       "      <td>&lt;NA&gt;</td>\n",
       "      <td>https://box.live/fights/iimura-vs-domingo/</td>\n",
       "      <td>NaN</td>\n",
       "      <td>NaN</td>\n",
       "      <td>NaN</td>\n",
       "      <td>NaN</td>\n",
       "      <td>NaN</td>\n",
       "      <td>NaN</td>\n",
       "    </tr>\n",
       "    <tr>\n",
       "      <th>3</th>\n",
       "      <td>Friday, 2 May 2025</td>\n",
       "      <td>Ryan Garcia</td>\n",
       "      <td>Loser</td>\n",
       "      <td>UD, Round 12</td>\n",
       "      <td>Rolando ‘Rolly’ Romero</td>\n",
       "      <td>Times Square, New York, NY, United States</td>\n",
       "      <td>Devin Haney Beat  Jose Ramirez (UD 12) \\nTeofi...</td>\n",
       "      <td>https://box.live/fights/garcia-vs-romero/</td>\n",
       "      <td>NaN</td>\n",
       "      <td>NaN</td>\n",
       "      <td>NaN</td>\n",
       "      <td>NaN</td>\n",
       "      <td>NaN</td>\n",
       "      <td>NaN</td>\n",
       "    </tr>\n",
       "    <tr>\n",
       "      <th>4</th>\n",
       "      <td>Thursday, 1 May 2025</td>\n",
       "      <td>Kevin Lerena</td>\n",
       "      <td>Winner</td>\n",
       "      <td>TKO, Round 3</td>\n",
       "      <td>Serhiy Radchenko</td>\n",
       "      <td>Sunbet Arena, Pretoria, South Africa</td>\n",
       "      <td>&lt;NA&gt;</td>\n",
       "      <td>https://box.live/fights/lerena-vs-radchenko/</td>\n",
       "      <td>NaN</td>\n",
       "      <td>NaN</td>\n",
       "      <td>NaN</td>\n",
       "      <td>NaN</td>\n",
       "      <td>NaN</td>\n",
       "      <td>NaN</td>\n",
       "    </tr>\n",
       "  </tbody>\n",
       "</table>\n",
       "</div>"
      ],
      "text/plain": [
       "                   Date        fighter1 fighter1_result method_or_round  \\\n",
       "0    Sunday, 4 May 2025     Naoya Inoue          Winner    TKO, Round 8   \n",
       "1  Saturday, 3 May 2025  Canelo Alvarez          Winner    UD, Round 12   \n",
       "2  Saturday, 3 May 2025   Jukiya Iimura          Winner    UD, Round 12   \n",
       "3    Friday, 2 May 2025     Ryan Garcia           Loser    UD, Round 12   \n",
       "4  Thursday, 1 May 2025    Kevin Lerena          Winner    TKO, Round 3   \n",
       "\n",
       "                 fighter2                                      Venue  \\\n",
       "0          Ramon Cardenas   T-Mobile Arena, Las Vegas, United States   \n",
       "1           William Scull            The Venue, Riyadh, Saudi Arabia   \n",
       "2          Esneth Domingo                Korakuen Hall, Tokyo, Japan   \n",
       "3  Rolando ‘Rolly’ Romero  Times Square, New York, NY, United States   \n",
       "4        Serhiy Radchenko       Sunbet Arena, Pretoria, South Africa   \n",
       "\n",
       "                                    Undercard fights  \\\n",
       "0  Rafael Espinoza Beat  Edward Vazquez (TKO 7) \\...   \n",
       "1  Jaime Munguia Beat  Bruno Surace (UD 12) \\nMar...   \n",
       "2                                               <NA>   \n",
       "3  Devin Haney Beat  Jose Ramirez (UD 12) \\nTeofi...   \n",
       "4                                               <NA>   \n",
       "\n",
       "                                           link fighter1_record_wins  \\\n",
       "0    https://box.live/fights/inoue-vs-cardenas/                   29   \n",
       "1      https://box.live/fights/canelo-vs-scull/                  NaN   \n",
       "2    https://box.live/fights/iimura-vs-domingo/                  NaN   \n",
       "3     https://box.live/fights/garcia-vs-romero/                  NaN   \n",
       "4  https://box.live/fights/lerena-vs-radchenko/                  NaN   \n",
       "\n",
       "  fighter1_record_draws fighter1_record_losses fighter2_record_wins  \\\n",
       "0                     0                      0                   26   \n",
       "1                   NaN                    NaN                  NaN   \n",
       "2                   NaN                    NaN                  NaN   \n",
       "3                   NaN                    NaN                  NaN   \n",
       "4                   NaN                    NaN                  NaN   \n",
       "\n",
       "  fighter2_record_draws fighter2_record_losses  \n",
       "0                     0                      1  \n",
       "1                   NaN                    NaN  \n",
       "2                   NaN                    NaN  \n",
       "3                   NaN                    NaN  \n",
       "4                   NaN                    NaN  "
      ]
     },
     "execution_count": 16,
     "metadata": {},
     "output_type": "execute_result"
    }
   ],
   "source": [
    "data.head(5)"
   ]
  },
  {
   "cell_type": "code",
   "execution_count": 17,
   "id": "1bf1071f",
   "metadata": {},
   "outputs": [],
   "source": [
    "data['fighter1_record_wins'] = 'NaN'\n",
    "data['fighter1_record_losses'] = 'NaN'\n",
    "data['fighter1_record_draws'] = 'NaN'\n",
    "\n",
    "data['fighter2_record_wins'] = 'NaN'\n",
    "data['fighter2_record_losses'] = 'NaN'\n",
    "data['fighter2_record_draws'] = 'NaN'\n",
    "\n",
    "# part 1 record data function\n",
    "def append_player_WDL_record(index) :\n",
    "\n",
    "    win_draw_loss = soup.find_all(class_='single-fight__record-content d-flex align-items-center justify-content-center w-100')\n",
    "    \n",
    "    fighter1_WDL_record = win_draw_loss[0].text.strip().split('-')\n",
    "    fighter2_WDL_record = win_draw_loss[1].text.strip().split('-')\n",
    "\n",
    "    data.at[index,'fighter1_record_wins'] = fighter1_WDL_record[0]\n",
    "    data.at[index,'fighter1_record_losses'] = fighter1_WDL_record[1]\n",
    "    data.at[index,'fighter1_record_draws'] = fighter1_WDL_record[2]\n",
    "\n",
    "    data.at[index,'fighter2_record_wins'] = fighter2_WDL_record[0]\n",
    "    data.at[index,'fighter2_record_losses'] = fighter2_WDL_record[1]\n",
    "    data.at[index,'fighter2_record_draws'] = fighter2_WDL_record[2]\n",
    "    \n"
   ]
  },
  {
   "cell_type": "markdown",
   "id": "05e7764c",
   "metadata": {},
   "source": [
    "### 2nd part: physiological bio"
   ]
  },
  {
   "cell_type": "code",
   "execution_count": 18,
   "id": "a931b1d0",
   "metadata": {},
   "outputs": [],
   "source": [
    "soup_with_heights = soup.find_all(class_=\"stats-row__content text-center headings-text-color\")\n",
    "\n",
    "fighter1_height = soup_with_heights[2]\n",
    "fighter1_height_cm = fighter1_height.text.split()[3]\n",
    "\n",
    "fighter2_height = soup_with_heights[3]\n",
    "fighter2_height_cm = fighter2_height.text.split()[3]"
   ]
  },
  {
   "cell_type": "code",
   "execution_count": 19,
   "id": "11e00ae5",
   "metadata": {},
   "outputs": [],
   "source": [
    "# create cols for heights\n",
    "data['fighter1_height_cm'] = 'NaN'\n",
    "data['fighter2_height_cm'] = 'NaN'"
   ]
  },
  {
   "cell_type": "code",
   "execution_count": 20,
   "id": "83fb5ce6",
   "metadata": {},
   "outputs": [],
   "source": [
    "# append height to cols\n",
    "data.at[0, 'fighter1_height_cm'] = fighter1_height_cm\n",
    "data.at[0, 'fighter2_height_cm'] = fighter2_height_cm"
   ]
  },
  {
   "cell_type": "code",
   "execution_count": 21,
   "id": "f625f4fb",
   "metadata": {},
   "outputs": [
    {
     "data": {
      "text/html": [
       "<div>\n",
       "<style scoped>\n",
       "    .dataframe tbody tr th:only-of-type {\n",
       "        vertical-align: middle;\n",
       "    }\n",
       "\n",
       "    .dataframe tbody tr th {\n",
       "        vertical-align: top;\n",
       "    }\n",
       "\n",
       "    .dataframe thead th {\n",
       "        text-align: right;\n",
       "    }\n",
       "</style>\n",
       "<table border=\"1\" class=\"dataframe\">\n",
       "  <thead>\n",
       "    <tr style=\"text-align: right;\">\n",
       "      <th></th>\n",
       "      <th>Date</th>\n",
       "      <th>fighter1</th>\n",
       "      <th>fighter1_result</th>\n",
       "      <th>method_or_round</th>\n",
       "      <th>fighter2</th>\n",
       "      <th>Venue</th>\n",
       "      <th>Undercard fights</th>\n",
       "      <th>link</th>\n",
       "      <th>fighter1_record_wins</th>\n",
       "      <th>fighter1_record_draws</th>\n",
       "      <th>fighter1_record_losses</th>\n",
       "      <th>fighter2_record_wins</th>\n",
       "      <th>fighter2_record_draws</th>\n",
       "      <th>fighter2_record_losses</th>\n",
       "      <th>fighter1_height_cm</th>\n",
       "      <th>fighter2_height_cm</th>\n",
       "    </tr>\n",
       "  </thead>\n",
       "  <tbody>\n",
       "    <tr>\n",
       "      <th>0</th>\n",
       "      <td>Sunday, 4 May 2025</td>\n",
       "      <td>Naoya Inoue</td>\n",
       "      <td>Winner</td>\n",
       "      <td>TKO, Round 8</td>\n",
       "      <td>Ramon Cardenas</td>\n",
       "      <td>T-Mobile Arena, Las Vegas, United States</td>\n",
       "      <td>Rafael Espinoza Beat  Edward Vazquez (TKO 7) \\...</td>\n",
       "      <td>https://box.live/fights/inoue-vs-cardenas/</td>\n",
       "      <td>NaN</td>\n",
       "      <td>NaN</td>\n",
       "      <td>NaN</td>\n",
       "      <td>NaN</td>\n",
       "      <td>NaN</td>\n",
       "      <td>NaN</td>\n",
       "      <td>164</td>\n",
       "      <td>168</td>\n",
       "    </tr>\n",
       "  </tbody>\n",
       "</table>\n",
       "</div>"
      ],
      "text/plain": [
       "                 Date     fighter1 fighter1_result method_or_round  \\\n",
       "0  Sunday, 4 May 2025  Naoya Inoue          Winner    TKO, Round 8   \n",
       "\n",
       "         fighter2                                     Venue  \\\n",
       "0  Ramon Cardenas  T-Mobile Arena, Las Vegas, United States   \n",
       "\n",
       "                                    Undercard fights  \\\n",
       "0  Rafael Espinoza Beat  Edward Vazquez (TKO 7) \\...   \n",
       "\n",
       "                                         link fighter1_record_wins  \\\n",
       "0  https://box.live/fights/inoue-vs-cardenas/                  NaN   \n",
       "\n",
       "  fighter1_record_draws fighter1_record_losses fighter2_record_wins  \\\n",
       "0                   NaN                    NaN                  NaN   \n",
       "\n",
       "  fighter2_record_draws fighter2_record_losses fighter1_height_cm  \\\n",
       "0                   NaN                    NaN                164   \n",
       "\n",
       "  fighter2_height_cm  \n",
       "0                168  "
      ]
     },
     "execution_count": 21,
     "metadata": {},
     "output_type": "execute_result"
    }
   ],
   "source": [
    "data.head(1)"
   ]
  },
  {
   "cell_type": "code",
   "execution_count": 22,
   "id": "980cfede",
   "metadata": {},
   "outputs": [],
   "source": [
    "# part 2: phys\n",
    "\n",
    "# create cols for heights\n",
    "data['fighter1_height_cm'] = 'NaN'\n",
    "data['fighter2_height_cm'] = 'NaN'\n",
    "def append_fighter_phys_bio(index) : \n",
    "    soup_with_heights = soup.find_all(class_=\"stats-row__content text-center headings-text-color\")\n",
    "\n",
    "    # fighter 1\n",
    "    fighter1_height = soup_with_heights[2]\n",
    "    try : \n",
    "        fighter1_height_cm = int(fighter1_height.text.split()[3])\n",
    "    except (IndexError, TypeError) :\n",
    "        fighter1_height_cm = 'NaN'\n",
    "    \n",
    "\n",
    "    # fighter 2\n",
    "    fighter2_height = soup_with_heights[3]\n",
    "    try : \n",
    "        fighter2_height_cm = int(fighter2_height.text.split()[3])\n",
    "    except (IndexError, TypeError) :\n",
    "        fighter2_height_cm = 'NaN'\n",
    "\n",
    "    # append height to cols\n",
    "    data.at[index, 'fighter1_height_cm'] = fighter1_height_cm\n",
    "    data.at[index, 'fighter2_height_cm'] = fighter2_height_cm\n"
   ]
  },
  {
   "cell_type": "code",
   "execution_count": 23,
   "id": "183cd1d4",
   "metadata": {},
   "outputs": [
    {
     "data": {
      "text/plain": [
       "Date                                            Saturday, 3 May 2025\n",
       "fighter1                                               Jukiya Iimura\n",
       "fighter1_result                                               Winner\n",
       "method_or_round                                         UD, Round 12\n",
       "fighter2                                              Esneth Domingo\n",
       "Venue                                    Korakuen Hall, Tokyo, Japan\n",
       "Undercard fights                                                <NA>\n",
       "link                      https://box.live/fights/iimura-vs-domingo/\n",
       "fighter1_record_wins                                             NaN\n",
       "fighter1_record_draws                                            NaN\n",
       "fighter1_record_losses                                           NaN\n",
       "fighter2_record_wins                                             NaN\n",
       "fighter2_record_draws                                            NaN\n",
       "fighter2_record_losses                                           NaN\n",
       "fighter1_height_cm                                               164\n",
       "fighter2_height_cm                                               168\n",
       "Name: 2, dtype: object"
      ]
     },
     "execution_count": 23,
     "metadata": {},
     "output_type": "execute_result"
    }
   ],
   "source": [
    "# test appender\n",
    "append_fighter_phys_bio(2)\n",
    "data.iloc[2]\n"
   ]
  },
  {
   "cell_type": "markdown",
   "id": "53cef3ca",
   "metadata": {},
   "source": [
    "### 3rd part: KO %"
   ]
  },
  {
   "cell_type": "code",
   "execution_count": 24,
   "id": "c34e9f7f",
   "metadata": {},
   "outputs": [],
   "source": [
    "# get KO percentages\n",
    "soup_with_KO_perc = soup.find_all(class_=\"stats-row__content text-center headings-text-color\")\n",
    "\n",
    "fighter1_ko_percentage = soup_with_KO_perc[14].text.split()[0]\n",
    "fighter2_ko_percentage = soup_with_KO_perc[15].text.split()[0]"
   ]
  },
  {
   "cell_type": "code",
   "execution_count": 25,
   "id": "9757e6a7",
   "metadata": {},
   "outputs": [],
   "source": [
    "# create cols for KO percentages\n",
    "data['fighter1_ko_percentage'] = 'NaN'\n",
    "data['fighter2_ko_percentage'] = 'NaN'"
   ]
  },
  {
   "cell_type": "code",
   "execution_count": 26,
   "id": "aaade0a7",
   "metadata": {},
   "outputs": [],
   "source": [
    "# set values for KO percentages\n",
    "data.at[0,'fighter1_ko_percentage'] = fighter1_ko_percentage\n",
    "data.at[0,'fighter2_ko_percentage'] = fighter2_ko_percentage"
   ]
  },
  {
   "cell_type": "code",
   "execution_count": 27,
   "id": "ef86c262",
   "metadata": {},
   "outputs": [
    {
     "data": {
      "text/html": [
       "<div>\n",
       "<style scoped>\n",
       "    .dataframe tbody tr th:only-of-type {\n",
       "        vertical-align: middle;\n",
       "    }\n",
       "\n",
       "    .dataframe tbody tr th {\n",
       "        vertical-align: top;\n",
       "    }\n",
       "\n",
       "    .dataframe thead th {\n",
       "        text-align: right;\n",
       "    }\n",
       "</style>\n",
       "<table border=\"1\" class=\"dataframe\">\n",
       "  <thead>\n",
       "    <tr style=\"text-align: right;\">\n",
       "      <th></th>\n",
       "      <th>Date</th>\n",
       "      <th>fighter1</th>\n",
       "      <th>fighter1_result</th>\n",
       "      <th>method_or_round</th>\n",
       "      <th>fighter2</th>\n",
       "      <th>Venue</th>\n",
       "      <th>Undercard fights</th>\n",
       "      <th>link</th>\n",
       "      <th>fighter1_record_wins</th>\n",
       "      <th>fighter1_record_draws</th>\n",
       "      <th>fighter1_record_losses</th>\n",
       "      <th>fighter2_record_wins</th>\n",
       "      <th>fighter2_record_draws</th>\n",
       "      <th>fighter2_record_losses</th>\n",
       "      <th>fighter1_height_cm</th>\n",
       "      <th>fighter2_height_cm</th>\n",
       "      <th>fighter1_ko_percentage</th>\n",
       "      <th>fighter2_ko_percentage</th>\n",
       "    </tr>\n",
       "  </thead>\n",
       "  <tbody>\n",
       "    <tr>\n",
       "      <th>0</th>\n",
       "      <td>Sunday, 4 May 2025</td>\n",
       "      <td>Naoya Inoue</td>\n",
       "      <td>Winner</td>\n",
       "      <td>TKO, Round 8</td>\n",
       "      <td>Ramon Cardenas</td>\n",
       "      <td>T-Mobile Arena, Las Vegas, United States</td>\n",
       "      <td>Rafael Espinoza Beat  Edward Vazquez (TKO 7) \\...</td>\n",
       "      <td>https://box.live/fights/inoue-vs-cardenas/</td>\n",
       "      <td>NaN</td>\n",
       "      <td>NaN</td>\n",
       "      <td>NaN</td>\n",
       "      <td>NaN</td>\n",
       "      <td>NaN</td>\n",
       "      <td>NaN</td>\n",
       "      <td>NaN</td>\n",
       "      <td>NaN</td>\n",
       "      <td>0</td>\n",
       "      <td>0</td>\n",
       "    </tr>\n",
       "  </tbody>\n",
       "</table>\n",
       "</div>"
      ],
      "text/plain": [
       "                 Date     fighter1 fighter1_result method_or_round  \\\n",
       "0  Sunday, 4 May 2025  Naoya Inoue          Winner    TKO, Round 8   \n",
       "\n",
       "         fighter2                                     Venue  \\\n",
       "0  Ramon Cardenas  T-Mobile Arena, Las Vegas, United States   \n",
       "\n",
       "                                    Undercard fights  \\\n",
       "0  Rafael Espinoza Beat  Edward Vazquez (TKO 7) \\...   \n",
       "\n",
       "                                         link fighter1_record_wins  \\\n",
       "0  https://box.live/fights/inoue-vs-cardenas/                  NaN   \n",
       "\n",
       "  fighter1_record_draws fighter1_record_losses fighter2_record_wins  \\\n",
       "0                   NaN                    NaN                  NaN   \n",
       "\n",
       "  fighter2_record_draws fighter2_record_losses fighter1_height_cm  \\\n",
       "0                   NaN                    NaN                NaN   \n",
       "\n",
       "  fighter2_height_cm fighter1_ko_percentage fighter2_ko_percentage  \n",
       "0                NaN                      0                      0  "
      ]
     },
     "execution_count": 27,
     "metadata": {},
     "output_type": "execute_result"
    }
   ],
   "source": [
    "data.head(1)"
   ]
  },
  {
   "cell_type": "code",
   "execution_count": 28,
   "id": "4d77c0d6",
   "metadata": {},
   "outputs": [],
   "source": [
    "# create cols for KO percentages\n",
    "data['fighter1_ko_percentage'] = 'NaN'\n",
    "data['fighter2_ko_percentage'] = 'NaN'\n",
    "\n",
    "# 3rd part: KO %\n",
    "def append_player_KO_perc(index) : \n",
    "    soup_with_KO_perc = soup.find_all(class_=\"stats-row__content text-center headings-text-color\")\n",
    "\n",
    "    fighter1_ko_percentage = soup_with_KO_perc[14].text.split()[0]\n",
    "    fighter2_ko_percentage = soup_with_KO_perc[15].text.split()[0]\n",
    "    \n",
    "    # set values for KO percentages\n",
    "    data.at[index,'fighter1_ko_percentage'] = fighter1_ko_percentage\n",
    "    data.at[index,'fighter2_ko_percentage'] = fighter2_ko_percentage"
   ]
  },
  {
   "cell_type": "markdown",
   "id": "7ce30612",
   "metadata": {},
   "source": [
    "### part 4: debut year"
   ]
  },
  {
   "cell_type": "code",
   "execution_count": 44,
   "id": "408473aa",
   "metadata": {},
   "outputs": [],
   "source": [
    "class_data = soup.find_all(class_=\"stats-row__content text-center headings-text-color\")"
   ]
  },
  {
   "cell_type": "code",
   "execution_count": 54,
   "id": "e81437ca",
   "metadata": {},
   "outputs": [],
   "source": [
    "# get year debuts\n",
    "fighter1_debut = class_data[20].text.split()[0]\n",
    "fighter2_debut = class_data[21].text.split()[0]"
   ]
  },
  {
   "cell_type": "code",
   "execution_count": 56,
   "id": "85dfd160",
   "metadata": {},
   "outputs": [],
   "source": [
    "# create columns\n",
    "data['fighter1_debut'] = 'NaN'\n",
    "data['fighter2_debut'] = 'NaN'"
   ]
  },
  {
   "cell_type": "code",
   "execution_count": 57,
   "id": "fffe4b3d",
   "metadata": {},
   "outputs": [],
   "source": [
    "# fill columns\n",
    "data.at[0, 'fighter1_debut'] = fighter1_debut\n",
    "data.at[0, 'fighter2_debut'] = fighter2_debut"
   ]
  },
  {
   "cell_type": "code",
   "execution_count": 63,
   "id": "177edfb5",
   "metadata": {},
   "outputs": [
    {
     "data": {
      "text/plain": [
       "fighter2_ko_percentage       0\n",
       "fighter1_debut            2021\n",
       "fighter2_debut            2015\n",
       "Name: 0, dtype: object"
      ]
     },
     "execution_count": 63,
     "metadata": {},
     "output_type": "execute_result"
    }
   ],
   "source": [
    "data.iloc[0,-3:].head()"
   ]
  },
  {
   "cell_type": "markdown",
   "id": "f0ebc959",
   "metadata": {},
   "source": [
    "### do da requesting loop to iterate through all of it"
   ]
  },
  {
   "cell_type": "code",
   "execution_count": 30,
   "id": "6b98568e",
   "metadata": {},
   "outputs": [
    {
     "name": "stdout",
     "output_type": "stream",
     "text": [
      "0\n",
      "1\n",
      "2\n"
     ]
    },
    {
     "ename": "KeyboardInterrupt",
     "evalue": "",
     "output_type": "error",
     "traceback": [
      "\u001b[1;31m---------------------------------------------------------------------------\u001b[0m",
      "\u001b[1;31mKeyboardInterrupt\u001b[0m                         Traceback (most recent call last)",
      "Cell \u001b[1;32mIn[30], line 31\u001b[0m\n\u001b[0;32m     28\u001b[0m append_player_KO_perc(row_index)\n\u001b[0;32m     30\u001b[0m seconds \u001b[38;5;241m=\u001b[39m np\u001b[38;5;241m.\u001b[39mrandom\u001b[38;5;241m.\u001b[39mrandint(\u001b[38;5;241m3\u001b[39m,\u001b[38;5;241m7\u001b[39m)\n\u001b[1;32m---> 31\u001b[0m time\u001b[38;5;241m.\u001b[39msleep(seconds)\n\u001b[0;32m     33\u001b[0m row_index \u001b[38;5;241m+\u001b[39m\u001b[38;5;241m=\u001b[39m \u001b[38;5;241m1\u001b[39m\n",
      "\u001b[1;31mKeyboardInterrupt\u001b[0m: "
     ]
    }
   ],
   "source": [
    "row_index = 0\n",
    "scraper = cloudscraper.create_scraper()\n",
    "\n",
    "data['fighter1_record_wins'] = 'NaN'\n",
    "data['fighter1_record_draws'] = 'NaN'\n",
    "data['fighter1_record_losses'] = 'NaN'\n",
    "data['fighter2_record_wins'] = 'NaN'\n",
    "data['fighter2_record_draws'] = 'NaN'\n",
    "data['fighter2_record_losses'] = 'NaN'\n",
    "\n",
    "# create cols for heights\n",
    "data['fighter1_height_cm'] = 'NaN'\n",
    "data['fighter2_height_cm'] = 'NaN'\n",
    "\n",
    "# create cols for KO percentages\n",
    "data['fighter1_ko_percentage'] = 'NaN'\n",
    "data['fighter2_ko_percentage'] = 'NaN'\n",
    "\n",
    "for url in links :\n",
    "    print(row_index)\n",
    "    # scrape le website\n",
    "    page = scraper.get(url)\n",
    "    soup = bs(page.text, 'html.parser')\n",
    "\n",
    "    # append certain values/metrics/statistics of players (probably use functions to do it repetitively, iterating by passing in row_index as an argument)\n",
    "    append_player_WDL_record(row_index)\n",
    "    append_fighter_phys_bio(row_index)\n",
    "    append_player_KO_perc(row_index)\n",
    "\n",
    "    seconds = np.random.randint(3,7)\n",
    "    time.sleep(seconds)\n",
    "\n",
    "    row_index += 1\n"
   ]
  },
  {
   "cell_type": "code",
   "execution_count": null,
   "id": "351588b0",
   "metadata": {},
   "outputs": [
    {
     "data": {
      "text/html": [
       "<div>\n",
       "<style scoped>\n",
       "    .dataframe tbody tr th:only-of-type {\n",
       "        vertical-align: middle;\n",
       "    }\n",
       "\n",
       "    .dataframe tbody tr th {\n",
       "        vertical-align: top;\n",
       "    }\n",
       "\n",
       "    .dataframe thead th {\n",
       "        text-align: right;\n",
       "    }\n",
       "</style>\n",
       "<table border=\"1\" class=\"dataframe\">\n",
       "  <thead>\n",
       "    <tr style=\"text-align: right;\">\n",
       "      <th></th>\n",
       "      <th>Date</th>\n",
       "      <th>fighter1</th>\n",
       "      <th>fighter1_result</th>\n",
       "      <th>method_or_round</th>\n",
       "      <th>fighter2</th>\n",
       "      <th>Venue</th>\n",
       "      <th>Undercard fights</th>\n",
       "      <th>link</th>\n",
       "      <th>fighter1_record_wins</th>\n",
       "      <th>fighter1_record_draws</th>\n",
       "      <th>fighter1_record_losses</th>\n",
       "      <th>fighter2_record_wins</th>\n",
       "      <th>fighter2_record_draws</th>\n",
       "      <th>fighter2_record_losses</th>\n",
       "      <th>fighter1_height_cm</th>\n",
       "      <th>fighter2_height_cm</th>\n",
       "      <th>fighter1_ko_percentage</th>\n",
       "      <th>fighter2_ko_percentage</th>\n",
       "    </tr>\n",
       "  </thead>\n",
       "  <tbody>\n",
       "    <tr>\n",
       "      <th>0</th>\n",
       "      <td>Saturday, 3 May 2025</td>\n",
       "      <td>Jukiya Iimura</td>\n",
       "      <td>Winner</td>\n",
       "      <td>UD, Round 12</td>\n",
       "      <td>Esneth Domingo</td>\n",
       "      <td>Korakuen Hall, Tokyo, Japan</td>\n",
       "      <td>NaN</td>\n",
       "      <td>https://box.live/fights/iimura-vs-domingo/</td>\n",
       "      <td>8</td>\n",
       "      <td>1</td>\n",
       "      <td>0</td>\n",
       "      <td>21</td>\n",
       "      <td>2</td>\n",
       "      <td>0</td>\n",
       "      <td>NaN</td>\n",
       "      <td>NaN</td>\n",
       "      <td>0</td>\n",
       "      <td>0</td>\n",
       "    </tr>\n",
       "    <tr>\n",
       "      <th>1</th>\n",
       "      <td>Friday, 2 May 2025</td>\n",
       "      <td>Ryan Garcia</td>\n",
       "      <td>Loser</td>\n",
       "      <td>UD, Round 12</td>\n",
       "      <td>Rolando ‘Rolly’ Romero</td>\n",
       "      <td>Times Square, New York, NY, United States</td>\n",
       "      <td>Devin Haney Beat  Jose Ramirez (UD 12) \\nTeofi...</td>\n",
       "      <td>https://box.live/fights/garcia-vs-romero/</td>\n",
       "      <td>24</td>\n",
       "      <td>1</td>\n",
       "      <td>0</td>\n",
       "      <td>16</td>\n",
       "      <td>2</td>\n",
       "      <td>0</td>\n",
       "      <td>NaN</td>\n",
       "      <td>NaN</td>\n",
       "      <td>83</td>\n",
       "      <td>81</td>\n",
       "    </tr>\n",
       "    <tr>\n",
       "      <th>2</th>\n",
       "      <td>Thursday, 1 May 2025</td>\n",
       "      <td>Kevin Lerena</td>\n",
       "      <td>Winner</td>\n",
       "      <td>TKO, Round 3</td>\n",
       "      <td>Serhiy Radchenko</td>\n",
       "      <td>Sunbet Arena, Pretoria, South Africa</td>\n",
       "      <td>NaN</td>\n",
       "      <td>https://box.live/fights/lerena-vs-radchenko/</td>\n",
       "      <td>30</td>\n",
       "      <td>3</td>\n",
       "      <td>0</td>\n",
       "      <td>11</td>\n",
       "      <td>7</td>\n",
       "      <td>0</td>\n",
       "      <td>NaN</td>\n",
       "      <td>NaN</td>\n",
       "      <td>47</td>\n",
       "      <td>45</td>\n",
       "    </tr>\n",
       "    <tr>\n",
       "      <th>3</th>\n",
       "      <td>Sunday, 27 April 2025</td>\n",
       "      <td>Marlon Tapales</td>\n",
       "      <td>Winner</td>\n",
       "      <td>RTD, Round 3</td>\n",
       "      <td>Jon Jon Jet</td>\n",
       "      <td>General Santos City, Cotabato del Sur, Philipp...</td>\n",
       "      <td>NaN</td>\n",
       "      <td>https://box.live/fights/tapales-vs-jet/</td>\n",
       "      <td>39</td>\n",
       "      <td>4</td>\n",
       "      <td>0</td>\n",
       "      <td>15</td>\n",
       "      <td>1</td>\n",
       "      <td>1</td>\n",
       "      <td>NaN</td>\n",
       "      <td>NaN</td>\n",
       "      <td>0</td>\n",
       "      <td>0</td>\n",
       "    </tr>\n",
       "    <tr>\n",
       "      <th>4</th>\n",
       "      <td>Saturday, 26 April 2025</td>\n",
       "      <td>Chris Eubank Jr</td>\n",
       "      <td>Winner</td>\n",
       "      <td>UD, Round 12</td>\n",
       "      <td>Conor Benn</td>\n",
       "      <td>Tottenham Hotspur Stadium, London, United Kingdom</td>\n",
       "      <td>Anthony Yarde Beat  Lyndon Arthur (UD 12) \\nAa...</td>\n",
       "      <td>https://box.live/fights/eubank-jr-vs-benn/</td>\n",
       "      <td>34</td>\n",
       "      <td>3</td>\n",
       "      <td>0</td>\n",
       "      <td>23</td>\n",
       "      <td>0</td>\n",
       "      <td>0</td>\n",
       "      <td>NaN</td>\n",
       "      <td>NaN</td>\n",
       "      <td>74</td>\n",
       "      <td>61</td>\n",
       "    </tr>\n",
       "  </tbody>\n",
       "</table>\n",
       "</div>"
      ],
      "text/plain": [
       "                      Date         fighter1 fighter1_result method_or_round  \\\n",
       "0     Saturday, 3 May 2025    Jukiya Iimura          Winner    UD, Round 12   \n",
       "1       Friday, 2 May 2025      Ryan Garcia           Loser    UD, Round 12   \n",
       "2     Thursday, 1 May 2025     Kevin Lerena          Winner    TKO, Round 3   \n",
       "3    Sunday, 27 April 2025   Marlon Tapales          Winner    RTD, Round 3   \n",
       "4  Saturday, 26 April 2025  Chris Eubank Jr          Winner    UD, Round 12   \n",
       "\n",
       "                 fighter2                                              Venue  \\\n",
       "0          Esneth Domingo                        Korakuen Hall, Tokyo, Japan   \n",
       "1  Rolando ‘Rolly’ Romero          Times Square, New York, NY, United States   \n",
       "2        Serhiy Radchenko               Sunbet Arena, Pretoria, South Africa   \n",
       "3             Jon Jon Jet  General Santos City, Cotabato del Sur, Philipp...   \n",
       "4              Conor Benn  Tottenham Hotspur Stadium, London, United Kingdom   \n",
       "\n",
       "                                    Undercard fights  \\\n",
       "0                                                NaN   \n",
       "1  Devin Haney Beat  Jose Ramirez (UD 12) \\nTeofi...   \n",
       "2                                                NaN   \n",
       "3                                                NaN   \n",
       "4  Anthony Yarde Beat  Lyndon Arthur (UD 12) \\nAa...   \n",
       "\n",
       "                                           link fighter1_record_wins  \\\n",
       "0    https://box.live/fights/iimura-vs-domingo/                    8   \n",
       "1     https://box.live/fights/garcia-vs-romero/                   24   \n",
       "2  https://box.live/fights/lerena-vs-radchenko/                   30   \n",
       "3       https://box.live/fights/tapales-vs-jet/                   39   \n",
       "4    https://box.live/fights/eubank-jr-vs-benn/                   34   \n",
       "\n",
       "  fighter1_record_draws fighter1_record_losses fighter2_record_wins  \\\n",
       "0                     1                      0                   21   \n",
       "1                     1                      0                   16   \n",
       "2                     3                      0                   11   \n",
       "3                     4                      0                   15   \n",
       "4                     3                      0                   23   \n",
       "\n",
       "  fighter2_record_draws fighter2_record_losses fighter1_height_cm  \\\n",
       "0                     2                      0                NaN   \n",
       "1                     2                      0                NaN   \n",
       "2                     7                      0                NaN   \n",
       "3                     1                      1                NaN   \n",
       "4                     0                      0                NaN   \n",
       "\n",
       "  fighter2_height_cm fighter1_ko_percentage fighter2_ko_percentage  \n",
       "0                NaN                      0                      0  \n",
       "1                NaN                     83                     81  \n",
       "2                NaN                     47                     45  \n",
       "3                NaN                      0                      0  \n",
       "4                NaN                     74                     61  "
      ]
     },
     "execution_count": 239,
     "metadata": {},
     "output_type": "execute_result"
    }
   ],
   "source": [
    "data.head()"
   ]
  }
 ],
 "metadata": {
  "kernelspec": {
   "display_name": "base",
   "language": "python",
   "name": "python3"
  },
  "language_info": {
   "codemirror_mode": {
    "name": "ipython",
    "version": 3
   },
   "file_extension": ".py",
   "mimetype": "text/x-python",
   "name": "python",
   "nbconvert_exporter": "python",
   "pygments_lexer": "ipython3",
   "version": "3.12.7"
  }
 },
 "nbformat": 4,
 "nbformat_minor": 5
}
