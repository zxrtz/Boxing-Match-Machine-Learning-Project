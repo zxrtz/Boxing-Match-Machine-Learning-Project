{
 "cells": [
  {
   "cell_type": "markdown",
   "id": "2bec20e2",
   "metadata": {},
   "source": [
    "# Get Data, and Append it to CSV"
   ]
  },
  {
   "cell_type": "code",
   "execution_count": 2,
   "id": "416251ee",
   "metadata": {},
   "outputs": [],
   "source": [
    "from web_scraping_SCRIPT import get_recent_fights\n",
    "from player_data_expansion import get_all_expanded_player_fight_data\n",
    "\n",
    "import pandas as pd\n",
    "import numpy as np\n",
    "from pathlib import Path\n",
    "import io\n",
    "\n",
    "import os"
   ]
  },
  {
   "cell_type": "code",
   "execution_count": 10,
   "id": "7c979b93",
   "metadata": {},
   "outputs": [],
   "source": [
    "new_data = get_all_expanded_player_fight_data()"
   ]
  },
  {
   "cell_type": "code",
   "execution_count": 11,
   "id": "65ad6f69",
   "metadata": {},
   "outputs": [
    {
     "data": {
      "text/plain": [
       "'c:\\\\Users\\\\Dylan\\\\Desktop\\\\ROAD TO DATASCI\\\\PYTHON\\\\PYTHON PERSONAL PROJECTS\\\\END-TO-END Boxing Predictions Project'"
      ]
     },
     "execution_count": 11,
     "metadata": {},
     "output_type": "execute_result"
    }
   ],
   "source": [
    "# get current path of this file\n",
    "os.path.dirname(os.path.abspath(''))"
   ]
  },
  {
   "cell_type": "code",
   "execution_count": 15,
   "id": "8356929b",
   "metadata": {},
   "outputs": [
    {
     "name": "stdout",
     "output_type": "stream",
     "text": [
      "c:\\Users\\Dylan\\Desktop\\ROAD TO DATASCI\\PYTHON\\PYTHON PERSONAL PROJECTS\\END-TO-END Boxing Predictions Project\n"
     ]
    }
   ],
   "source": [
    "# get current path of this file, set it to path\n",
    "curr_dir = os.path.dirname(os.path.abspath(''))\n",
    "print(curr_dir)"
   ]
  },
  {
   "cell_type": "code",
   "execution_count": 19,
   "id": "2e4ab605",
   "metadata": {},
   "outputs": [
    {
     "name": "stdout",
     "output_type": "stream",
     "text": [
      "c:\\Users\\Dylan\\Desktop\\ROAD TO DATASCI\\PYTHON\\PYTHON PERSONAL PROJECTS\\END-TO-END Boxing Predictions Project\\Machine-Learning-Project-with-AWS-Deployment\\fight_data.csv\n"
     ]
    }
   ],
   "source": [
    "# csv file path\n",
    "my_file_path = Path(curr_dir + \"\\\\Machine-Learning-Project-with-AWS-Deployment\\\\fight_data.csv\")\n",
    "print(my_file_path)"
   ]
  },
  {
   "cell_type": "code",
   "execution_count": 28,
   "id": "a5b1f24e",
   "metadata": {},
   "outputs": [],
   "source": [
    "# change file path later in AWS\n",
    "if not my_file_path.exists():\n",
    "    new_data.to_csv(\n",
    "        my_file_path,\n",
    "        index=False\n",
    "    )\n",
    "else:\n",
    "    old_df = pd.read_csv(\n",
    "        my_file_path\n",
    "    )\n",
    "    # Concatenate and reset index to avoid duplicate index issues\n",
    "    appended_df = pd.concat([new_data,old_df], axis=0)\n",
    "\n",
    "    # Drop duplicates and reset index\n",
    "    appended_df = appended_df.drop_duplicates(keep='last',subset=['Date','fighter1','fighter2'])\n",
    "\n",
    "    # Save the updated DataFrame\n",
    "    appended_df.to_csv(\n",
    "    my_file_path,\n",
    "        index=False\n",
    "    )"
   ]
  },
  {
   "cell_type": "code",
   "execution_count": 29,
   "id": "7c5637db",
   "metadata": {},
   "outputs": [
    {
     "data": {
      "text/html": [
       "<div>\n",
       "<style scoped>\n",
       "    .dataframe tbody tr th:only-of-type {\n",
       "        vertical-align: middle;\n",
       "    }\n",
       "\n",
       "    .dataframe tbody tr th {\n",
       "        vertical-align: top;\n",
       "    }\n",
       "\n",
       "    .dataframe thead th {\n",
       "        text-align: right;\n",
       "    }\n",
       "</style>\n",
       "<table border=\"1\" class=\"dataframe\">\n",
       "  <thead>\n",
       "    <tr style=\"text-align: right;\">\n",
       "      <th></th>\n",
       "      <th>Date</th>\n",
       "      <th>fighter1</th>\n",
       "      <th>fighter1_result</th>\n",
       "      <th>method_or_round</th>\n",
       "      <th>fighter2</th>\n",
       "      <th>Venue</th>\n",
       "      <th>Undercard fights</th>\n",
       "      <th>link</th>\n",
       "      <th>fighter1_record_wins</th>\n",
       "      <th>fighter1_record_draws</th>\n",
       "      <th>fighter1_record_losses</th>\n",
       "      <th>fighter2_record_wins</th>\n",
       "      <th>fighter2_record_draws</th>\n",
       "      <th>fighter2_record_losses</th>\n",
       "      <th>fighter1_height_cm</th>\n",
       "      <th>fighter2_height_cm</th>\n",
       "      <th>fighter1_ko_percentage</th>\n",
       "      <th>fighter2_ko_percentage</th>\n",
       "      <th>fighter1_debut</th>\n",
       "      <th>fighter2_debut</th>\n",
       "    </tr>\n",
       "  </thead>\n",
       "  <tbody>\n",
       "    <tr>\n",
       "      <th>9</th>\n",
       "      <td>Sunday, 4 May 2025</td>\n",
       "      <td>Naoya Inoue</td>\n",
       "      <td>Winner</td>\n",
       "      <td>TKO, Round 8</td>\n",
       "      <td>Ramon Cardenas</td>\n",
       "      <td>T-Mobile Arena, Las Vegas, United States</td>\n",
       "      <td>Rafael Espinoza Beat  Edward Vazquez (TKO 7) \\...</td>\n",
       "      <td>https://box.live/fights/inoue-vs-cardenas/</td>\n",
       "      <td>29</td>\n",
       "      <td>0</td>\n",
       "      <td>0</td>\n",
       "      <td>26</td>\n",
       "      <td>0</td>\n",
       "      <td>1</td>\n",
       "      <td>164</td>\n",
       "      <td>168.0</td>\n",
       "      <td>0</td>\n",
       "      <td>0</td>\n",
       "      <td>2012</td>\n",
       "      <td>2015</td>\n",
       "    </tr>\n",
       "  </tbody>\n",
       "</table>\n",
       "</div>"
      ],
      "text/plain": [
       "                 Date     fighter1 fighter1_result method_or_round  \\\n",
       "9  Sunday, 4 May 2025  Naoya Inoue          Winner    TKO, Round 8   \n",
       "\n",
       "         fighter2                                     Venue  \\\n",
       "9  Ramon Cardenas  T-Mobile Arena, Las Vegas, United States   \n",
       "\n",
       "                                    Undercard fights  \\\n",
       "9  Rafael Espinoza Beat  Edward Vazquez (TKO 7) \\...   \n",
       "\n",
       "                                         link fighter1_record_wins  \\\n",
       "9  https://box.live/fights/inoue-vs-cardenas/                   29   \n",
       "\n",
       "  fighter1_record_draws fighter1_record_losses fighter2_record_wins  \\\n",
       "9                     0                      0                   26   \n",
       "\n",
       "  fighter2_record_draws fighter2_record_losses fighter1_height_cm  \\\n",
       "9                     0                      1                164   \n",
       "\n",
       "  fighter2_height_cm fighter1_ko_percentage fighter2_ko_percentage  \\\n",
       "9              168.0                      0                      0   \n",
       "\n",
       "  fighter1_debut fighter2_debut  \n",
       "9           2012           2015  "
      ]
     },
     "execution_count": 29,
     "metadata": {},
     "output_type": "execute_result"
    }
   ],
   "source": [
    "# MAKE SURE TO DROP DUPLICATES IF CORRECTED DATA COMES IN****\n",
    "# some values will be updated such as fighter height, and the script won't properly get rid of duplicates.\n",
    "appended_df[appended_df['fighter1'] == 'Naoya Inoue'].drop_duplicates(keep='last',subset=['Date','fighter1','fighter2'])"
   ]
  },
  {
   "cell_type": "code",
   "execution_count": null,
   "id": "08c07d63",
   "metadata": {},
   "outputs": [],
   "source": []
  }
 ],
 "metadata": {
  "kernelspec": {
   "display_name": "base",
   "language": "python",
   "name": "python3"
  },
  "language_info": {
   "codemirror_mode": {
    "name": "ipython",
    "version": 3
   },
   "file_extension": ".py",
   "mimetype": "text/x-python",
   "name": "python",
   "nbconvert_exporter": "python",
   "pygments_lexer": "ipython3",
   "version": "3.12.7"
  }
 },
 "nbformat": 4,
 "nbformat_minor": 5
}
