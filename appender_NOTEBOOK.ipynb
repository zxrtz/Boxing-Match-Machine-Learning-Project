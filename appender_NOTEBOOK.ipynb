{
 "cells": [
  {
   "cell_type": "markdown",
   "id": "2bec20e2",
   "metadata": {},
   "source": [
    "# Get Data, and Append it to CSV"
   ]
  },
  {
   "cell_type": "code",
   "execution_count": null,
   "id": "416251ee",
   "metadata": {},
   "outputs": [],
   "source": [
    "from web_scraping_SCRIPT import get_recent_fights\n",
    "from player_data_expansion import get_all_expanded_player_fight_data\n",
    "\n",
    "import pandas as pd\n",
    "import numpy as np\n",
    "from pathlib import Path\n",
    "import io\n",
    "\n",
    "import os"
   ]
  },
  {
   "cell_type": "code",
   "execution_count": null,
   "id": "7c979b93",
   "metadata": {},
   "outputs": [],
   "source": [
    "new_data = get_all_expanded_player_fight_data"
   ]
  },
  {
   "cell_type": "code",
   "execution_count": 19,
   "id": "65ad6f69",
   "metadata": {},
   "outputs": [
    {
     "data": {
      "text/plain": [
       "'c:\\\\Users\\\\Dylan\\\\Desktop\\\\ROAD TO DATASCI\\\\PYTHON\\\\PYTHON PERSONAL PROJECTS\\\\END-TO-END Boxing Predictions Project'"
      ]
     },
     "execution_count": 19,
     "metadata": {},
     "output_type": "execute_result"
    }
   ],
   "source": [
    "# get current path of this file\n",
    "os.path.dirname(os.path.abspath(''))"
   ]
  },
  {
   "cell_type": "code",
   "execution_count": 20,
   "id": "8356929b",
   "metadata": {},
   "outputs": [
    {
     "name": "stdout",
     "output_type": "stream",
     "text": [
      "c:\\Users\\Dylan\\Desktop\\ROAD TO DATASCI\\PYTHON\\PYTHON PERSONAL PROJECTS\\END-TO-END Boxing Predictions Project\n"
     ]
    }
   ],
   "source": [
    "# get current path of this file, set it to path\n",
    "path = os.path.dirname(os.path.abspath(''))\n",
    "print(path)"
   ]
  },
  {
   "cell_type": "code",
   "execution_count": null,
   "id": "2e4ab605",
   "metadata": {},
   "outputs": [
    {
     "name": "stdout",
     "output_type": "stream",
     "text": [
      "c:\\Users\\Dylan\\Desktop\\ROAD TO DATASCI\\PYTHON\\PYTHON PERSONAL PROJECTS\\END-TO-END Boxing Predictions Project\\Machine-Learning-Project-with-AWS-Deployment\\fight_data.csv\n"
     ]
    }
   ],
   "source": [
    "# csv file path\n",
    "my_file_path = Path(curr_dir + \"\\\\END-TO-END Boxing Predictions Project\\\\Machine-Learning-Project-with-AWS-Deployment\\\\fight_data.csv\")\n",
    "print(my_file_path)"
   ]
  },
  {
   "cell_type": "code",
   "execution_count": 22,
   "id": "a5b1f24e",
   "metadata": {},
   "outputs": [],
   "source": [
    "# change file path later in AWS\n",
    "if not my_file_path.exists():\n",
    "    new_data.to_csv(\n",
    "        my_file_path,\n",
    "        index=False\n",
    "    )\n",
    "else:\n",
    "    old_df = pd.read_csv(\n",
    "        my_file_path\n",
    "    )\n",
    "\n",
    "    # Concatenate and reset index to avoid duplicate index issues\n",
    "    appended_df = pd.concat([old_df, new_data], axis=0)\n",
    "\n",
    "    # Drop duplicates and reset index\n",
    "    appended_df = appended_df.drop_duplicates(keep='first')\n",
    "\n",
    "    # Save the updated DataFrame\n",
    "    appended_df.to_csv(\n",
    "        my_file_path,\n",
    "        index=False\n",
    "    )"
   ]
  },
  {
   "cell_type": "code",
   "execution_count": null,
   "id": "21eec74e",
   "metadata": {},
   "outputs": [],
   "source": []
  }
 ],
 "metadata": {
  "kernelspec": {
   "display_name": "base",
   "language": "python",
   "name": "python3"
  },
  "language_info": {
   "codemirror_mode": {
    "name": "ipython",
    "version": 3
   },
   "file_extension": ".py",
   "mimetype": "text/x-python",
   "name": "python",
   "nbconvert_exporter": "python",
   "pygments_lexer": "ipython3",
   "version": "3.12.7"
  }
 },
 "nbformat": 4,
 "nbformat_minor": 5
}
