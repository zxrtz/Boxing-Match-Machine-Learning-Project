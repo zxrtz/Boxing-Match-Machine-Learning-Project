{
 "cells": [
  {
   "cell_type": "markdown",
   "id": "2bec20e2",
   "metadata": {},
   "source": [
    "# Get Data, and Append it to CSV"
   ]
  },
  {
   "cell_type": "code",
   "execution_count": 2,
   "id": "416251ee",
   "metadata": {},
   "outputs": [],
   "source": [
    "from web_scraping_SCRIPT import get_recent_fights\n",
    "\n",
    "import pandas as pd\n",
    "import numpy as np\n",
    "from pathlib import Path\n",
    "import io\n",
    "\n",
    "import os"
   ]
  },
  {
   "cell_type": "code",
   "execution_count": 3,
   "id": "7c979b93",
   "metadata": {},
   "outputs": [
    {
     "name": "stdout",
     "output_type": "stream",
     "text": [
      "['Sunday, 27 April 2025', 'Marlon Tapales', 'Winner', 'RTD, Round 3', 'Jon Jon Jet', 'Loser', 'RTD, Round 3', 'General Santos City, Cotabato del Sur, Philippines', '']\n",
      "['Saturday, 26 April 2025', 'Chris Eubank Jr', 'Winner', 'UD, Round 12', 'Conor Benn', 'Loser', 'UD, Round 12', 'Tottenham Hotspur Stadium, London, United Kingdom', 'Anthony Yarde Beat  Lyndon Arthur (UD 12) \\nAaron McKenna Beat  Liam Smith (UD 12) \\nViddal Riley Beat  Cheavon Clarke (UD 12) \\nChris Billam Smith Beat  Brandon Glanton (UD 12)']\n",
      "['Sunday, 20 April 2025', 'Ben Whittaker', 'Winner', 'TKO, Round 2', 'Liam Cameron', 'Loser', 'TKO, Round 2', 'Resorts World Arena, Birmingham, United Kingdom', 'Sam Eggington Beat  Lee Cutler (TD 9) \\nFrazer Clarke Beat  Ebenezer Tetteh (TKO 1) \\nTyler Denny Beat  Elvis Ahorgah (PTS 10)']\n",
      "['Saturday, 19 April 2025', 'Dalton Smith', 'Winner', 'UD, Round 12', 'Mathieu Germain', 'Loser', 'UD, Round 12', 'Park Community Arena, Sheffield, United Kingdom', 'Caoimhin Agyarko Beat  Ryan Kelly (MD 10) \\nJosh Warrington Beat  Asad Khan (UD 10) \\nJosh Padley Beat  Marko Cvetanovic (TKO 5) \\nJoe Howarth Beat  Mario Portillo (UD 6) \\nLeli Buttigieg Beat  Grant Dennis (KO 5) \\nGiorgio Visioli Beat  Kane Baker (TKO 4)']\n",
      "['Saturday, 19 April 2025', 'Gabriela Fundora', 'Winner', 'TKO, Round 7', 'Marilyn Badillo Amaya', 'Loser', 'TKO, Round 7', 'Frontwave Arena, Oceanside, CA, United States', 'Jorge Perez Beat  Charles Conwell (SD 12) \\nOleksandr Gvozdyk Beat  Anthony Hollaway (KO 3)']\n",
      "['Saturday, 19 April 2025', 'Sadriddin Akhmedov', 'Draw', 'MD, Round 10', 'Elias Espadas', 'Draw', 'MD, Round 10', 'Commerce Casino, Commerce, CA, United States', '']\n",
      "['Friday, 18 April 2025', 'Sergey Kovalev', 'Winner', 'KO, Round 7', 'Artur Mann', 'Loser', 'KO, Round 7', 'Yunost Arena, Chelyabinsk, Russian Federation', '']\n",
      "['Friday, 18 April 2025', 'Kevin Hayler Brown', 'Winner', 'UD, Round 10', 'Esteuri Metiver Suero', 'Loser', 'UD, Round 10', 'Caribe Royale Orlando, Orlando, FL, United States', 'Lenier Pero Beat  Detrailous Webster (UD 10) \\nGurgen Hovhannisyan Beat  Dajuan Calloway (KO 5)']\n",
      "['Thursday, 17 April 2025', 'Holy Dorgbetor', 'Winner', 'SD, Round 6', 'Oleksandr Solomennikov', 'Loser', 'SD, Round 6', 'Global Theater Boulevard Riyadh City, Riyadh, Saudi Arabia', '']\n",
      "['Saturday, 12 April 2025', 'Jaron ‘Boots’ Ennis', 'Winner', 'RTD, Round 6', 'Eimantas Stanionis', 'Loser', 'RTD, Round 6', 'Boardwalk Hall, Atlantic City, NJ, United States', 'Raymond Ford Beat  Thomas Mattice (UD 10) \\nShakhram Giyasov Beat  Franco Ocampo (KO 4) \\nArturo Popoca Beat  Edgar Cortes (TKO 8) \\nTahmir Smalls Beat  Earl Bascome (KO 1) \\nZaquin Moses Beat  Alex Pallette (KO 2) \\nFrancisco Rodriguez Beat  Naheem Parker (TKO 3)']\n",
      "['Saturday, 12 April 2025', 'Jordan White', 'Winner', 'UD, Round 10', 'Jose Matias', 'Loser', 'UD, Round 10', 'Maryland Live Casino, Hanover, MD, United States', '']\n",
      "['Friday, 11 April 2025', 'Julio Cesar La Cruz', 'Winner', 'TKO, Round 3', 'Dilan Prasovic', 'Loser', 'TKO, Round 3', 'Hotel Melia International, Varadero, Cuba', 'Erislandy Alvarez Beat  Brainer Soli (KO 1) \\nMoussa Gholam Beat  Misael Vasquez (TKO 3) \\nArlen Lopez Beat  Martin Bulacio (UD 10) \\nLazaro Alvarez Beat  Miguel Santos (TKO 7)']\n",
      "Index(['Date', 'Fighter 1', 'Result Fighter 1', 'Method / Round Fighter 1',\n",
      "       'Fighter 2', 'Result Fighter 2', 'Method / Round Fighter 2', 'Venue',\n",
      "       'Undercard fights'],\n",
      "      dtype='object')\n"
     ]
    }
   ],
   "source": [
    "new_data = get_recent_fights()"
   ]
  },
  {
   "cell_type": "code",
   "execution_count": 4,
   "id": "65ad6f69",
   "metadata": {},
   "outputs": [
    {
     "data": {
      "text/plain": [
       "'c:\\\\Users\\\\Dylan\\\\Desktop\\\\ROAD TO DATASCI\\\\PYTHON\\\\PYTHON PERSONAL PROJECTS'"
      ]
     },
     "execution_count": 4,
     "metadata": {},
     "output_type": "execute_result"
    }
   ],
   "source": [
    "# get current path of this file\n",
    "os.path.dirname(os.path.abspath(''))"
   ]
  },
  {
   "cell_type": "code",
   "execution_count": 5,
   "id": "8356929b",
   "metadata": {},
   "outputs": [],
   "source": [
    "# get current path of this file, set it to path\n",
    "path = os.path.dirname(os.path.abspath(''))"
   ]
  },
  {
   "cell_type": "code",
   "execution_count": 11,
   "id": "2e4ab605",
   "metadata": {},
   "outputs": [
    {
     "name": "stdout",
     "output_type": "stream",
     "text": [
      "c:\\Users\\Dylan\\Desktop\\ROAD TO DATASCI\\PYTHON\\PYTHON PERSONAL PROJECTS\\fight_data.csv\n"
     ]
    }
   ],
   "source": [
    "# csv file path\n",
    "my_file = Path(path + \"\\\\\" + \"fight_data.csv\")\n",
    "print(my_file)"
   ]
  },
  {
   "cell_type": "code",
   "execution_count": null,
   "id": "a5b1f24e",
   "metadata": {},
   "outputs": [],
   "source": [
    "# change file path later in AWS\n",
    "if not my_file.exists():\n",
    "    new_data.to_csv(\n",
    "        \"C:/Users/Dylan/Desktop/ROAD TO DATASCI/PYTHON/PYTHON PERSONAL PROJECTS/END-TO-END Boxing Predictions Project/fight_data.csv\",\n",
    "        index=False\n",
    "    )\n",
    "else:\n",
    "    old_df = pd.read_csv(\n",
    "        \"C:/Users/Dylan/Desktop/ROAD TO DATASCI/PYTHON/PYTHON PERSONAL PROJECTS/END-TO-END Boxing Predictions Project/fight_data.csv\"\n",
    "    )\n",
    "\n",
    "    # Concatenate and reset index to avoid duplicate index issues\n",
    "    appended_df = pd.concat([old_df, new_data], axis=0)\n",
    "\n",
    "    # Drop duplicates and reset index\n",
    "    appended_df = appended_df.drop_duplicates(keep='first')\n",
    "\n",
    "    # Save the updated DataFrame\n",
    "    appended_df.to_csv(\n",
    "        \"C:/Users/Dylan/Desktop/ROAD TO DATASCI/PYTHON/PYTHON PERSONAL PROJECTS/END-TO-END Boxing Predictions Project/fight_data.csv\",\n",
    "        index=False\n",
    "    )"
   ]
  },
  {
   "cell_type": "code",
   "execution_count": null,
   "id": "21eec74e",
   "metadata": {},
   "outputs": [],
   "source": []
  }
 ],
 "metadata": {
  "kernelspec": {
   "display_name": "base",
   "language": "python",
   "name": "python3"
  },
  "language_info": {
   "codemirror_mode": {
    "name": "ipython",
    "version": 3
   },
   "file_extension": ".py",
   "mimetype": "text/x-python",
   "name": "python",
   "nbconvert_exporter": "python",
   "pygments_lexer": "ipython3",
   "version": "3.12.7"
  }
 },
 "nbformat": 4,
 "nbformat_minor": 5
}
