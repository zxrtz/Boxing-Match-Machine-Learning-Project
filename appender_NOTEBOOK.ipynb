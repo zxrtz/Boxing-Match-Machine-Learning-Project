{
 "cells": [
  {
   "cell_type": "markdown",
   "id": "2bec20e2",
   "metadata": {},
   "source": [
    "# Get Data, and Append it to CSV"
   ]
  },
  {
   "cell_type": "code",
   "execution_count": 1,
   "id": "416251ee",
   "metadata": {},
   "outputs": [],
   "source": [
    "from web_scraping_SCRIPT import get_recent_fights\n",
    "from player_data_expansion import get_all_expanded_player_fight_data\n",
    "\n",
    "import pandas as pd\n",
    "import numpy as np\n",
    "from pathlib import Path\n",
    "import io\n",
    "\n",
    "import os"
   ]
  },
  {
   "cell_type": "code",
   "execution_count": 2,
   "id": "7c979b93",
   "metadata": {},
   "outputs": [
    {
     "ename": "KeyboardInterrupt",
     "evalue": "",
     "output_type": "error",
     "traceback": [
      "\u001b[1;31m---------------------------------------------------------------------------\u001b[0m",
      "\u001b[1;31mKeyboardInterrupt\u001b[0m                         Traceback (most recent call last)",
      "Cell \u001b[1;32mIn[2], line 1\u001b[0m\n\u001b[1;32m----> 1\u001b[0m new_data \u001b[38;5;241m=\u001b[39m get_all_expanded_player_fight_data()\n",
      "File \u001b[1;32mc:\\Users\\Dylan\\Desktop\\ROAD TO DATASCI\\PYTHON\\PYTHON PERSONAL PROJECTS\\END-TO-END Boxing Predictions Project\\ML Boxing Project with Streamlit Deployment\\player_data_expansion.py:20\u001b[0m, in \u001b[0;36mget_all_expanded_player_fight_data\u001b[1;34m()\u001b[0m\n\u001b[0;32m     17\u001b[0m scraper \u001b[38;5;241m=\u001b[39m cloudscraper\u001b[38;5;241m.\u001b[39mcreate_scraper()\n\u001b[0;32m     19\u001b[0m \u001b[38;5;66;03m# get initial data from main basic scraper\u001b[39;00m\n\u001b[1;32m---> 20\u001b[0m data \u001b[38;5;241m=\u001b[39m get_recent_fights()\n\u001b[0;32m     21\u001b[0m time\u001b[38;5;241m.\u001b[39msleep(\u001b[38;5;241m3\u001b[39m)\n\u001b[0;32m     23\u001b[0m \u001b[38;5;66;03m######################################\u001b[39;00m\n\u001b[0;32m     24\u001b[0m \u001b[38;5;66;03m# preemptively include appending cols\u001b[39;00m\n\u001b[0;32m     25\u001b[0m \u001b[38;5;66;03m######################################\u001b[39;00m\n\u001b[0;32m     26\u001b[0m \n\u001b[0;32m     27\u001b[0m \u001b[38;5;66;03m# create cols for WDL\u001b[39;00m\n",
      "File \u001b[1;32mc:\\Users\\Dylan\\Desktop\\ROAD TO DATASCI\\PYTHON\\PYTHON PERSONAL PROJECTS\\END-TO-END Boxing Predictions Project\\ML Boxing Project with Streamlit Deployment\\web_scraping_SCRIPT.py:16\u001b[0m, in \u001b[0;36mget_recent_fights\u001b[1;34m()\u001b[0m\n\u001b[0;32m     12\u001b[0m url \u001b[38;5;241m=\u001b[39m \u001b[38;5;124m\"\u001b[39m\u001b[38;5;124mhttps://box.live/fight-results/\u001b[39m\u001b[38;5;124m\"\u001b[39m\n\u001b[0;32m     14\u001b[0m page \u001b[38;5;241m=\u001b[39m scraper\u001b[38;5;241m.\u001b[39mget(url)\n\u001b[1;32m---> 16\u001b[0m soup \u001b[38;5;241m=\u001b[39m bs(page\u001b[38;5;241m.\u001b[39mtext, \u001b[38;5;124m'\u001b[39m\u001b[38;5;124mhtml.parser\u001b[39m\u001b[38;5;124m'\u001b[39m)\n\u001b[0;32m     19\u001b[0m \u001b[38;5;66;03m# find table\u001b[39;00m\n\u001b[0;32m     20\u001b[0m recent_fights_table \u001b[38;5;241m=\u001b[39m soup\u001b[38;5;241m.\u001b[39mfind(\u001b[38;5;124m'\u001b[39m\u001b[38;5;124mtable\u001b[39m\u001b[38;5;124m'\u001b[39m)\n",
      "File \u001b[1;32mc:\\Users\\Dylan\\anaconda3\\Lib\\site-packages\\bs4\\__init__.py:335\u001b[0m, in \u001b[0;36mBeautifulSoup.__init__\u001b[1;34m(self, markup, features, builder, parse_only, from_encoding, exclude_encodings, element_classes, **kwargs)\u001b[0m\n\u001b[0;32m    333\u001b[0m \u001b[38;5;28mself\u001b[39m\u001b[38;5;241m.\u001b[39mbuilder\u001b[38;5;241m.\u001b[39minitialize_soup(\u001b[38;5;28mself\u001b[39m)\n\u001b[0;32m    334\u001b[0m \u001b[38;5;28;01mtry\u001b[39;00m:\n\u001b[1;32m--> 335\u001b[0m     \u001b[38;5;28mself\u001b[39m\u001b[38;5;241m.\u001b[39m_feed()\n\u001b[0;32m    336\u001b[0m     success \u001b[38;5;241m=\u001b[39m \u001b[38;5;28;01mTrue\u001b[39;00m\n\u001b[0;32m    337\u001b[0m     \u001b[38;5;28;01mbreak\u001b[39;00m\n",
      "File \u001b[1;32mc:\\Users\\Dylan\\anaconda3\\Lib\\site-packages\\bs4\\__init__.py:478\u001b[0m, in \u001b[0;36mBeautifulSoup._feed\u001b[1;34m(self)\u001b[0m\n\u001b[0;32m    475\u001b[0m \u001b[38;5;66;03m# Convert the document to Unicode.\u001b[39;00m\n\u001b[0;32m    476\u001b[0m \u001b[38;5;28mself\u001b[39m\u001b[38;5;241m.\u001b[39mbuilder\u001b[38;5;241m.\u001b[39mreset()\n\u001b[1;32m--> 478\u001b[0m \u001b[38;5;28mself\u001b[39m\u001b[38;5;241m.\u001b[39mbuilder\u001b[38;5;241m.\u001b[39mfeed(\u001b[38;5;28mself\u001b[39m\u001b[38;5;241m.\u001b[39mmarkup)\n\u001b[0;32m    479\u001b[0m \u001b[38;5;66;03m# Close out any unfinished strings and close all the open tags.\u001b[39;00m\n\u001b[0;32m    480\u001b[0m \u001b[38;5;28mself\u001b[39m\u001b[38;5;241m.\u001b[39mendData()\n",
      "File \u001b[1;32mc:\\Users\\Dylan\\anaconda3\\Lib\\site-packages\\bs4\\builder\\_htmlparser.py:380\u001b[0m, in \u001b[0;36mHTMLParserTreeBuilder.feed\u001b[1;34m(self, markup)\u001b[0m\n\u001b[0;32m    378\u001b[0m parser\u001b[38;5;241m.\u001b[39msoup \u001b[38;5;241m=\u001b[39m \u001b[38;5;28mself\u001b[39m\u001b[38;5;241m.\u001b[39msoup\n\u001b[0;32m    379\u001b[0m \u001b[38;5;28;01mtry\u001b[39;00m:\n\u001b[1;32m--> 380\u001b[0m     parser\u001b[38;5;241m.\u001b[39mfeed(markup)\n\u001b[0;32m    381\u001b[0m     parser\u001b[38;5;241m.\u001b[39mclose()\n\u001b[0;32m    382\u001b[0m \u001b[38;5;28;01mexcept\u001b[39;00m \u001b[38;5;167;01mAssertionError\u001b[39;00m \u001b[38;5;28;01mas\u001b[39;00m e:\n\u001b[0;32m    383\u001b[0m     \u001b[38;5;66;03m# html.parser raises AssertionError in rare cases to\u001b[39;00m\n\u001b[0;32m    384\u001b[0m     \u001b[38;5;66;03m# indicate a fatal problem with the markup, especially\u001b[39;00m\n\u001b[0;32m    385\u001b[0m     \u001b[38;5;66;03m# when there's an error in the doctype declaration.\u001b[39;00m\n",
      "File \u001b[1;32mc:\\Users\\Dylan\\anaconda3\\Lib\\html\\parser.py:111\u001b[0m, in \u001b[0;36mHTMLParser.feed\u001b[1;34m(self, data)\u001b[0m\n\u001b[0;32m    105\u001b[0m \u001b[38;5;250m\u001b[39m\u001b[38;5;124mr\u001b[39m\u001b[38;5;124;03m\"\"\"Feed data to the parser.\u001b[39;00m\n\u001b[0;32m    106\u001b[0m \n\u001b[0;32m    107\u001b[0m \u001b[38;5;124;03mCall this as often as you want, with as little or as much text\u001b[39;00m\n\u001b[0;32m    108\u001b[0m \u001b[38;5;124;03mas you want (may include '\\n').\u001b[39;00m\n\u001b[0;32m    109\u001b[0m \u001b[38;5;124;03m\"\"\"\u001b[39;00m\n\u001b[0;32m    110\u001b[0m \u001b[38;5;28mself\u001b[39m\u001b[38;5;241m.\u001b[39mrawdata \u001b[38;5;241m=\u001b[39m \u001b[38;5;28mself\u001b[39m\u001b[38;5;241m.\u001b[39mrawdata \u001b[38;5;241m+\u001b[39m data\n\u001b[1;32m--> 111\u001b[0m \u001b[38;5;28mself\u001b[39m\u001b[38;5;241m.\u001b[39mgoahead(\u001b[38;5;241m0\u001b[39m)\n",
      "File \u001b[1;32mc:\\Users\\Dylan\\anaconda3\\Lib\\html\\parser.py:204\u001b[0m, in \u001b[0;36mHTMLParser.goahead\u001b[1;34m(self, end)\u001b[0m\n\u001b[0;32m    202\u001b[0m \u001b[38;5;28;01mif\u001b[39;00m match:\n\u001b[0;32m    203\u001b[0m     name \u001b[38;5;241m=\u001b[39m match\u001b[38;5;241m.\u001b[39mgroup()[\u001b[38;5;241m2\u001b[39m:\u001b[38;5;241m-\u001b[39m\u001b[38;5;241m1\u001b[39m]\n\u001b[1;32m--> 204\u001b[0m     \u001b[38;5;28mself\u001b[39m\u001b[38;5;241m.\u001b[39mhandle_charref(name)\n\u001b[0;32m    205\u001b[0m     k \u001b[38;5;241m=\u001b[39m match\u001b[38;5;241m.\u001b[39mend()\n\u001b[0;32m    206\u001b[0m     \u001b[38;5;28;01mif\u001b[39;00m \u001b[38;5;129;01mnot\u001b[39;00m startswith(\u001b[38;5;124m'\u001b[39m\u001b[38;5;124m;\u001b[39m\u001b[38;5;124m'\u001b[39m, k\u001b[38;5;241m-\u001b[39m\u001b[38;5;241m1\u001b[39m):\n",
      "File \u001b[1;32mc:\\Users\\Dylan\\anaconda3\\Lib\\site-packages\\bs4\\builder\\_htmlparser.py:211\u001b[0m, in \u001b[0;36mBeautifulSoupHTMLParser.handle_charref\u001b[1;34m(self, name)\u001b[0m\n\u001b[0;32m    209\u001b[0m     \u001b[38;5;28;01mcontinue\u001b[39;00m\n\u001b[0;32m    210\u001b[0m \u001b[38;5;28;01mtry\u001b[39;00m:\n\u001b[1;32m--> 211\u001b[0m     data \u001b[38;5;241m=\u001b[39m \u001b[38;5;28mbytearray\u001b[39m([real_name])\u001b[38;5;241m.\u001b[39mdecode(encoding)\n\u001b[0;32m    212\u001b[0m \u001b[38;5;28;01mexcept\u001b[39;00m \u001b[38;5;167;01mUnicodeDecodeError\u001b[39;00m \u001b[38;5;28;01mas\u001b[39;00m e:\n\u001b[0;32m    213\u001b[0m     \u001b[38;5;28;01mpass\u001b[39;00m\n",
      "File \u001b[1;32mc:\\Users\\Dylan\\anaconda3\\Lib\\encodings\\__init__.py:99\u001b[0m, in \u001b[0;36msearch_function\u001b[1;34m(encoding)\u001b[0m\n\u001b[0;32m     95\u001b[0m     \u001b[38;5;28;01mcontinue\u001b[39;00m\n\u001b[0;32m     96\u001b[0m \u001b[38;5;28;01mtry\u001b[39;00m:\n\u001b[0;32m     97\u001b[0m     \u001b[38;5;66;03m# Import is absolute to prevent the possibly malicious import of a\u001b[39;00m\n\u001b[0;32m     98\u001b[0m     \u001b[38;5;66;03m# module with side-effects that is not in the 'encodings' package.\u001b[39;00m\n\u001b[1;32m---> 99\u001b[0m     mod \u001b[38;5;241m=\u001b[39m \u001b[38;5;28m__import__\u001b[39m(\u001b[38;5;124m'\u001b[39m\u001b[38;5;124mencodings.\u001b[39m\u001b[38;5;124m'\u001b[39m \u001b[38;5;241m+\u001b[39m modname, fromlist\u001b[38;5;241m=\u001b[39m_import_tail,\n\u001b[0;32m    100\u001b[0m                      level\u001b[38;5;241m=\u001b[39m\u001b[38;5;241m0\u001b[39m)\n\u001b[0;32m    101\u001b[0m \u001b[38;5;28;01mexcept\u001b[39;00m \u001b[38;5;167;01mImportError\u001b[39;00m:\n\u001b[0;32m    102\u001b[0m     \u001b[38;5;66;03m# ImportError may occur because 'encodings.(modname)' does not exist,\u001b[39;00m\n\u001b[0;32m    103\u001b[0m     \u001b[38;5;66;03m# or because it imports a name that does not exist (see mbcs and oem)\u001b[39;00m\n\u001b[0;32m    104\u001b[0m     \u001b[38;5;28;01mpass\u001b[39;00m\n",
      "File \u001b[1;32m<frozen importlib._bootstrap>:1360\u001b[0m, in \u001b[0;36m_find_and_load\u001b[1;34m(name, import_)\u001b[0m\n",
      "File \u001b[1;32m<frozen importlib._bootstrap>:1322\u001b[0m, in \u001b[0;36m_find_and_load_unlocked\u001b[1;34m(name, import_)\u001b[0m\n",
      "File \u001b[1;32m<frozen importlib._bootstrap>:1262\u001b[0m, in \u001b[0;36m_find_spec\u001b[1;34m(name, path, target)\u001b[0m\n",
      "File \u001b[1;32m<frozen importlib._bootstrap_external>:1528\u001b[0m, in \u001b[0;36mfind_spec\u001b[1;34m(cls, fullname, path, target)\u001b[0m\n",
      "File \u001b[1;32m<frozen importlib._bootstrap_external>:1502\u001b[0m, in \u001b[0;36m_get_spec\u001b[1;34m(cls, fullname, path, target)\u001b[0m\n",
      "File \u001b[1;32m<frozen importlib._bootstrap_external>:1601\u001b[0m, in \u001b[0;36mfind_spec\u001b[1;34m(self, fullname, target)\u001b[0m\n",
      "File \u001b[1;32m<frozen importlib._bootstrap_external>:147\u001b[0m, in \u001b[0;36m_path_stat\u001b[1;34m(path)\u001b[0m\n",
      "\u001b[1;31mKeyboardInterrupt\u001b[0m: "
     ]
    }
   ],
   "source": [
    "new_data = get_all_expanded_player_fight_data()"
   ]
  },
  {
   "cell_type": "code",
   "execution_count": null,
   "id": "65ad6f69",
   "metadata": {},
   "outputs": [
    {
     "data": {
      "text/plain": [
       "'c:\\\\Users\\\\Dylan\\\\Desktop\\\\ROAD TO DATASCI\\\\PYTHON\\\\PYTHON PERSONAL PROJECTS\\\\END-TO-END Boxing Predictions Project'"
      ]
     },
     "execution_count": 11,
     "metadata": {},
     "output_type": "execute_result"
    }
   ],
   "source": [
    "# get current path of this file\n",
    "os.path.dirname(os.path.abspath(''))"
   ]
  },
  {
   "cell_type": "code",
   "execution_count": null,
   "id": "8356929b",
   "metadata": {},
   "outputs": [
    {
     "name": "stdout",
     "output_type": "stream",
     "text": [
      "c:\\Users\\Dylan\\Desktop\\ROAD TO DATASCI\\PYTHON\\PYTHON PERSONAL PROJECTS\\END-TO-END Boxing Predictions Project\n"
     ]
    }
   ],
   "source": [
    "# get current path of this file, set it to path\n",
    "curr_dir = os.path.dirname(os.path.abspath(''))\n",
    "print(curr_dir)"
   ]
  },
  {
   "cell_type": "code",
   "execution_count": null,
   "id": "2e4ab605",
   "metadata": {},
   "outputs": [
    {
     "name": "stdout",
     "output_type": "stream",
     "text": [
      "c:\\Users\\Dylan\\Desktop\\ROAD TO DATASCI\\PYTHON\\PYTHON PERSONAL PROJECTS\\END-TO-END Boxing Predictions Project\\Machine-Learning-Project-with-AWS-Deployment\\fight_data.csv\n"
     ]
    }
   ],
   "source": [
    "# csv file path\n",
    "my_file_path = Path(curr_dir + \"fight_data.csv\")\n",
    "print(my_file_path)"
   ]
  },
  {
   "cell_type": "code",
   "execution_count": null,
   "id": "a5b1f24e",
   "metadata": {},
   "outputs": [],
   "source": [
    "# change file path later in AWS\n",
    "if not my_file_path.exists():\n",
    "    new_data.to_csv(\n",
    "        my_file_path,\n",
    "        index=False\n",
    "    )\n",
    "else:\n",
    "    old_df = pd.read_csv(\n",
    "        my_file_path\n",
    "    )\n",
    "    # Concatenate and reset index to avoid duplicate index issues\n",
    "    appended_df = pd.concat([new_data,old_df], axis=0)\n",
    "\n",
    "    # Drop duplicates and reset index\n",
    "    appended_df = appended_df.drop_duplicates(keep='last',subset=['Date','fighter1','fighter2'])\n",
    "\n",
    "    # Save the updated DataFrame\n",
    "    appended_df.to_csv(\n",
    "    my_file_path,\n",
    "        index=False\n",
    "    )"
   ]
  },
  {
   "cell_type": "code",
   "execution_count": null,
   "id": "7c5637db",
   "metadata": {},
   "outputs": [
    {
     "data": {
      "text/html": [
       "<div>\n",
       "<style scoped>\n",
       "    .dataframe tbody tr th:only-of-type {\n",
       "        vertical-align: middle;\n",
       "    }\n",
       "\n",
       "    .dataframe tbody tr th {\n",
       "        vertical-align: top;\n",
       "    }\n",
       "\n",
       "    .dataframe thead th {\n",
       "        text-align: right;\n",
       "    }\n",
       "</style>\n",
       "<table border=\"1\" class=\"dataframe\">\n",
       "  <thead>\n",
       "    <tr style=\"text-align: right;\">\n",
       "      <th></th>\n",
       "      <th>Date</th>\n",
       "      <th>fighter1</th>\n",
       "      <th>fighter1_result</th>\n",
       "      <th>method_or_round</th>\n",
       "      <th>fighter2</th>\n",
       "      <th>Venue</th>\n",
       "      <th>Undercard fights</th>\n",
       "      <th>link</th>\n",
       "      <th>fighter1_record_wins</th>\n",
       "      <th>fighter1_record_draws</th>\n",
       "      <th>fighter1_record_losses</th>\n",
       "      <th>fighter2_record_wins</th>\n",
       "      <th>fighter2_record_draws</th>\n",
       "      <th>fighter2_record_losses</th>\n",
       "      <th>fighter1_height_cm</th>\n",
       "      <th>fighter2_height_cm</th>\n",
       "      <th>fighter1_ko_percentage</th>\n",
       "      <th>fighter2_ko_percentage</th>\n",
       "      <th>fighter1_debut</th>\n",
       "      <th>fighter2_debut</th>\n",
       "    </tr>\n",
       "  </thead>\n",
       "  <tbody>\n",
       "    <tr>\n",
       "      <th>9</th>\n",
       "      <td>Sunday, 4 May 2025</td>\n",
       "      <td>Naoya Inoue</td>\n",
       "      <td>Winner</td>\n",
       "      <td>TKO, Round 8</td>\n",
       "      <td>Ramon Cardenas</td>\n",
       "      <td>T-Mobile Arena, Las Vegas, United States</td>\n",
       "      <td>Rafael Espinoza Beat  Edward Vazquez (TKO 7) \\...</td>\n",
       "      <td>https://box.live/fights/inoue-vs-cardenas/</td>\n",
       "      <td>29</td>\n",
       "      <td>0</td>\n",
       "      <td>0</td>\n",
       "      <td>26</td>\n",
       "      <td>0</td>\n",
       "      <td>1</td>\n",
       "      <td>164</td>\n",
       "      <td>168.0</td>\n",
       "      <td>0</td>\n",
       "      <td>0</td>\n",
       "      <td>2012</td>\n",
       "      <td>2015</td>\n",
       "    </tr>\n",
       "  </tbody>\n",
       "</table>\n",
       "</div>"
      ],
      "text/plain": [
       "                 Date     fighter1 fighter1_result method_or_round  \\\n",
       "9  Sunday, 4 May 2025  Naoya Inoue          Winner    TKO, Round 8   \n",
       "\n",
       "         fighter2                                     Venue  \\\n",
       "9  Ramon Cardenas  T-Mobile Arena, Las Vegas, United States   \n",
       "\n",
       "                                    Undercard fights  \\\n",
       "9  Rafael Espinoza Beat  Edward Vazquez (TKO 7) \\...   \n",
       "\n",
       "                                         link fighter1_record_wins  \\\n",
       "9  https://box.live/fights/inoue-vs-cardenas/                   29   \n",
       "\n",
       "  fighter1_record_draws fighter1_record_losses fighter2_record_wins  \\\n",
       "9                     0                      0                   26   \n",
       "\n",
       "  fighter2_record_draws fighter2_record_losses fighter1_height_cm  \\\n",
       "9                     0                      1                164   \n",
       "\n",
       "  fighter2_height_cm fighter1_ko_percentage fighter2_ko_percentage  \\\n",
       "9              168.0                      0                      0   \n",
       "\n",
       "  fighter1_debut fighter2_debut  \n",
       "9           2012           2015  "
      ]
     },
     "execution_count": 29,
     "metadata": {},
     "output_type": "execute_result"
    }
   ],
   "source": [
    "# MAKE SURE TO DROP DUPLICATES IF CORRECTED DATA COMES IN****\n",
    "# some values will be updated such as fighter height, and the script won't properly get rid of duplicates.\n",
    "appended_df[appended_df['fighter1'] == 'Naoya Inoue'].drop_duplicates(keep='last',subset=['Date','fighter1','fighter2'])"
   ]
  },
  {
   "cell_type": "code",
   "execution_count": null,
   "id": "08c07d63",
   "metadata": {},
   "outputs": [],
   "source": []
  }
 ],
 "metadata": {
  "kernelspec": {
   "display_name": "base",
   "language": "python",
   "name": "python3"
  },
  "language_info": {
   "codemirror_mode": {
    "name": "ipython",
    "version": 3
   },
   "file_extension": ".py",
   "mimetype": "text/x-python",
   "name": "python",
   "nbconvert_exporter": "python",
   "pygments_lexer": "ipython3",
   "version": "3.12.7"
  }
 },
 "nbformat": 4,
 "nbformat_minor": 5
}
